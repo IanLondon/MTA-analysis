{
 "cells": [
  {
   "cell_type": "markdown",
   "metadata": {},
   "source": [
    "## Challenge 1"
   ]
  },
  {
   "cell_type": "code",
   "execution_count": 1,
   "metadata": {
    "collapsed": false
   },
   "outputs": [],
   "source": [
    "import csv\n",
    "from collections import defaultdict\n",
    "def read_data(file):\n",
    "    dict_list = []\n",
    "\n",
    "    with open(file, 'r') as csvfile:\n",
    "        reader = csv.DictReader(csvfile)\n",
    "        for row in reader:\n",
    "            dict_list.append(row)\n",
    "    return dict_list"
   ]
  },
  {
   "cell_type": "code",
   "execution_count": 2,
   "metadata": {
    "collapsed": false
   },
   "outputs": [
    {
     "data": {
      "text/plain": [
       "[{'C/A': 'A002',\n",
       "  'DATE': '03/26/2016',\n",
       "  'DESC': 'REGULAR',\n",
       "  'DIVISION': 'BMT',\n",
       "  'ENTRIES': '0005595746',\n",
       "  'EXITS                                                               ': '0001893282                                             ',\n",
       "  'LINENAME': 'NQR456',\n",
       "  'SCP': '02-00-00',\n",
       "  'STATION': '59 ST',\n",
       "  'TIME': '04:00:00',\n",
       "  'UNIT': 'R051'},\n",
       " {'C/A': 'A002',\n",
       "  'DATE': '03/26/2016',\n",
       "  'DESC': 'REGULAR',\n",
       "  'DIVISION': 'BMT',\n",
       "  'ENTRIES': '0005595746',\n",
       "  'EXITS                                                               ': '0001893282                                             ',\n",
       "  'LINENAME': 'NQR456',\n",
       "  'SCP': '02-00-00',\n",
       "  'STATION': '59 ST',\n",
       "  'TIME': '08:00:00',\n",
       "  'UNIT': 'R051'}]"
      ]
     },
     "execution_count": 2,
     "metadata": {},
     "output_type": "execute_result"
    }
   ],
   "source": [
    "new_dict = read_data('turnstile_160402.txt')\n",
    "new_dict[1:3]"
   ]
  },
  {
   "cell_type": "code",
   "execution_count": 3,
   "metadata": {
    "collapsed": false
   },
   "outputs": [],
   "source": [
    "def createDict(new_dict):\n",
    "    d = defaultdict(list)\n",
    "    for i in new_dict:\n",
    "        key = (i['C/A'],i['UNIT'],i['SCP'],i['STATION'])\n",
    "        value = [i['LINENAME'],i['DIVISION'],i['DATE'],i['TIME'],i['DESC'],i['ENTRIES'],\n",
    "                 i['EXITS                                                               ']]\n",
    "        d[key].append(value)\n",
    "    return d"
   ]
  },
  {
   "cell_type": "code",
   "execution_count": 4,
   "metadata": {
    "collapsed": false
   },
   "outputs": [
    {
     "data": {
      "text/plain": [
       "defaultdict(list,\n",
       "            {('A002',\n",
       "              'R051',\n",
       "              '02-00-00',\n",
       "              '59 ST'): [['NQR456',\n",
       "               'BMT',\n",
       "               '03/26/2016',\n",
       "               '04:00:00',\n",
       "               'REGULAR',\n",
       "               '0005595746',\n",
       "               '0001893282                                             '], ['NQR456',\n",
       "               'BMT',\n",
       "               '03/26/2016',\n",
       "               '08:00:00',\n",
       "               'REGULAR',\n",
       "               '0005595746',\n",
       "               '0001893282                                             '], ['NQR456',\n",
       "               'BMT',\n",
       "               '03/26/2016',\n",
       "               '12:00:00',\n",
       "               'REGULAR',\n",
       "               '0005595746',\n",
       "               '0001893282                                             ']]})"
      ]
     },
     "execution_count": 4,
     "metadata": {},
     "output_type": "execute_result"
    }
   ],
   "source": [
    "createDict(new_dict[1:4])"
   ]
  },
  {
   "cell_type": "markdown",
   "metadata": {},
   "source": [
    "## Challenge 2"
   ]
  },
  {
   "cell_type": "code",
   "execution_count": 5,
   "metadata": {
    "collapsed": false
   },
   "outputs": [
    {
     "data": {
      "text/plain": [
       "datetime.datetime(2013, 1, 2, 0, 0)"
      ]
     },
     "execution_count": 5,
     "metadata": {},
     "output_type": "execute_result"
    }
   ],
   "source": [
    "import dateutil.parser\n",
    "dateutil.parser.parse(\"01-02-2013\")"
   ]
  },
  {
   "cell_type": "code",
   "execution_count": 15,
   "metadata": {
    "collapsed": true
   },
   "outputs": [],
   "source": [
    "def createTime(new_dict):\n",
    "    d = defaultdict(list)\n",
    "    for i in new_dict:\n",
    "        key = (i['C/A'],i['UNIT'],i['SCP'],i['STATION'])\n",
    "        dt = [dateutil.parser.parse(i['DATE'] + ' ' + i['TIME']), i['ENTRIES']]\n",
    "        d[key].append(dt)\n",
    "    return d"
   ]
  },
  {
   "cell_type": "code",
   "execution_count": 29,
   "metadata": {
    "collapsed": false,
    "scrolled": false
   },
   "outputs": [
    {
     "data": {
      "text/plain": [
       "defaultdict(list,\n",
       "            {('A002',\n",
       "              'R051',\n",
       "              '02-00-00',\n",
       "              '59 ST'): [[[datetime.datetime(2016, 3, 26, 0, 0)],\n",
       "               '0005595746'], [[datetime.datetime(2016, 3, 26, 4, 0)],\n",
       "               '0005595746'], [[datetime.datetime(2016, 3, 26, 8, 0)],\n",
       "               '0005595746'], [[datetime.datetime(2016, 3, 26, 12, 0)],\n",
       "               '0005595746']]})"
      ]
     },
     "execution_count": 29,
     "metadata": {},
     "output_type": "execute_result"
    }
   ],
   "source": [
    "createTime(new_dict[0:4])"
   ]
  },
  {
   "cell_type": "code",
   "execution_count": 14,
   "metadata": {
    "collapsed": false
   },
   "outputs": [
    {
     "ename": "TypeError",
     "evalue": "unsupported operand type(s) for +: 'int' and 'str'",
     "output_type": "error",
     "traceback": [
      "\u001b[1;31m---------------------------------------------------------------------------\u001b[0m",
      "\u001b[1;31mTypeError\u001b[0m                                 Traceback (most recent call last)",
      "\u001b[1;32m<ipython-input-14-c6d6b1fda49c>\u001b[0m in \u001b[0;36m<module>\u001b[1;34m()\u001b[0m\n\u001b[0;32m      1\u001b[0m \u001b[0me\u001b[0m \u001b[1;33m=\u001b[0m \u001b[0mdefaultdict\u001b[0m\u001b[1;33m(\u001b[0m\u001b[0mint\u001b[0m\u001b[1;33m)\u001b[0m\u001b[1;33m\u001b[0m\u001b[0m\n\u001b[0;32m      2\u001b[0m \u001b[1;32mfor\u001b[0m \u001b[0mkey\u001b[0m\u001b[1;33m,\u001b[0m\u001b[0mlis\u001b[0m \u001b[1;32min\u001b[0m \u001b[0mcreateTime\u001b[0m\u001b[1;33m(\u001b[0m\u001b[0mnew_dict\u001b[0m\u001b[1;33m)\u001b[0m\u001b[1;33m.\u001b[0m\u001b[0mitems\u001b[0m\u001b[1;33m(\u001b[0m\u001b[1;33m)\u001b[0m\u001b[1;33m:\u001b[0m\u001b[1;33m\u001b[0m\u001b[0m\n\u001b[1;32m----> 3\u001b[1;33m     \u001b[0me\u001b[0m\u001b[1;33m[\u001b[0m\u001b[0mkey\u001b[0m\u001b[1;33m]\u001b[0m \u001b[1;33m=\u001b[0m \u001b[0msum\u001b[0m\u001b[1;33m(\u001b[0m\u001b[1;33m[\u001b[0m\u001b[0mpair\u001b[0m\u001b[1;33m[\u001b[0m\u001b[1;33m-\u001b[0m\u001b[1;36m1\u001b[0m\u001b[1;33m]\u001b[0m \u001b[1;32mfor\u001b[0m \u001b[0mpair\u001b[0m \u001b[1;32min\u001b[0m \u001b[0mlis\u001b[0m\u001b[1;33m]\u001b[0m\u001b[1;33m)\u001b[0m\u001b[1;33m\u001b[0m\u001b[0m\n\u001b[0m\u001b[0;32m      4\u001b[0m     \u001b[0mprint\u001b[0m \u001b[1;33m(\u001b[0m\u001b[0me\u001b[0m\u001b[1;33m)\u001b[0m\u001b[1;33m\u001b[0m\u001b[0m\n\u001b[0;32m      5\u001b[0m \u001b[1;33m\u001b[0m\u001b[0m\n",
      "\u001b[1;31mTypeError\u001b[0m: unsupported operand type(s) for +: 'int' and 'str'"
     ]
    }
   ],
   "source": [
    "e = defaultdict(int)\n",
    "for key,lis in createTime(new_dict[0:3]):\n",
    "    e[key] = sum([pair[-1] for pair in lis])\n",
    "    print (e)\n",
    "    "
   ]
  },
  {
   "cell_type": "code",
   "execution_count": null,
   "metadata": {
    "collapsed": true
   },
   "outputs": [],
   "source": []
  }
 ],
 "metadata": {
  "kernelspec": {
   "display_name": "Python 3",
   "language": "python",
   "name": "python3"
  },
  "language_info": {
   "codemirror_mode": {
    "name": "ipython",
    "version": 3
   },
   "file_extension": ".py",
   "mimetype": "text/x-python",
   "name": "python",
   "nbconvert_exporter": "python",
   "pygments_lexer": "ipython3",
   "version": "3.5.1"
  }
 },
 "nbformat": 4,
 "nbformat_minor": 0
}
