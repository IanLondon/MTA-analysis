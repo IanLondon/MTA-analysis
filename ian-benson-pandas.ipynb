{
 "cells": [
  {
   "cell_type": "code",
   "execution_count": 69,
   "metadata": {
    "collapsed": false
   },
   "outputs": [],
   "source": [
    "%matplotlib inline\n",
    "from matplotlib import pyplot as plt\n",
    "import matplotlib.ticker as ticker\n",
    "import seaborn as sns\n",
    "import pandas as pd\n",
    "\n",
    "import os\n",
    "import glob"
   ]
  },
  {
   "cell_type": "code",
   "execution_count": 40,
   "metadata": {
    "collapsed": false
   },
   "outputs": [
    {
     "name": "stdout",
     "output_type": "stream",
     "text": [
      "reading data from files:\n",
      "/home/ian/metis/team_benson/data/turnstile_160319.txt\n",
      "/home/ian/metis/team_benson/data/turnstile_160326.txt\n",
      "/home/ian/metis/team_benson/data/turnstile_160402.txt\n",
      "IMPORTANT NOTE: files in the folder must be consecutive! It is up to you to make sure there are not gaps.\n",
      "\n",
      "got 578990 rows total.\n"
     ]
    },
    {
     "data": {
      "text/html": [
       "<div>\n",
       "<table border=\"1\" class=\"dataframe\">\n",
       "  <thead>\n",
       "    <tr style=\"text-align: right;\">\n",
       "      <th></th>\n",
       "      <th>C/A</th>\n",
       "      <th>UNIT</th>\n",
       "      <th>SCP</th>\n",
       "      <th>STATION</th>\n",
       "      <th>LINENAME</th>\n",
       "      <th>DIVISION</th>\n",
       "      <th>DATE</th>\n",
       "      <th>TIME</th>\n",
       "      <th>DESC</th>\n",
       "      <th>ENTRIES</th>\n",
       "      <th>EXITS</th>\n",
       "    </tr>\n",
       "  </thead>\n",
       "  <tbody>\n",
       "    <tr>\n",
       "      <th>0</th>\n",
       "      <td>A002</td>\n",
       "      <td>R051</td>\n",
       "      <td>02-00-00</td>\n",
       "      <td>59 ST</td>\n",
       "      <td>NQR456</td>\n",
       "      <td>BMT</td>\n",
       "      <td>03/12/2016</td>\n",
       "      <td>03:00:00</td>\n",
       "      <td>REGULAR</td>\n",
       "      <td>5583673</td>\n",
       "      <td>1884949</td>\n",
       "    </tr>\n",
       "    <tr>\n",
       "      <th>1</th>\n",
       "      <td>A002</td>\n",
       "      <td>R051</td>\n",
       "      <td>02-00-00</td>\n",
       "      <td>59 ST</td>\n",
       "      <td>NQR456</td>\n",
       "      <td>BMT</td>\n",
       "      <td>03/12/2016</td>\n",
       "      <td>07:00:00</td>\n",
       "      <td>REGULAR</td>\n",
       "      <td>5583689</td>\n",
       "      <td>1884968</td>\n",
       "    </tr>\n",
       "    <tr>\n",
       "      <th>2</th>\n",
       "      <td>A002</td>\n",
       "      <td>R051</td>\n",
       "      <td>02-00-00</td>\n",
       "      <td>59 ST</td>\n",
       "      <td>NQR456</td>\n",
       "      <td>BMT</td>\n",
       "      <td>03/12/2016</td>\n",
       "      <td>11:00:00</td>\n",
       "      <td>REGULAR</td>\n",
       "      <td>5583785</td>\n",
       "      <td>1885067</td>\n",
       "    </tr>\n",
       "    <tr>\n",
       "      <th>3</th>\n",
       "      <td>A002</td>\n",
       "      <td>R051</td>\n",
       "      <td>02-00-00</td>\n",
       "      <td>59 ST</td>\n",
       "      <td>NQR456</td>\n",
       "      <td>BMT</td>\n",
       "      <td>03/12/2016</td>\n",
       "      <td>15:00:00</td>\n",
       "      <td>REGULAR</td>\n",
       "      <td>5584037</td>\n",
       "      <td>1885157</td>\n",
       "    </tr>\n",
       "    <tr>\n",
       "      <th>4</th>\n",
       "      <td>A002</td>\n",
       "      <td>R051</td>\n",
       "      <td>02-00-00</td>\n",
       "      <td>59 ST</td>\n",
       "      <td>NQR456</td>\n",
       "      <td>BMT</td>\n",
       "      <td>03/12/2016</td>\n",
       "      <td>19:00:00</td>\n",
       "      <td>REGULAR</td>\n",
       "      <td>5584482</td>\n",
       "      <td>1885250</td>\n",
       "    </tr>\n",
       "  </tbody>\n",
       "</table>\n",
       "</div>"
      ],
      "text/plain": [
       "    C/A  UNIT       SCP STATION LINENAME DIVISION        DATE      TIME  \\\n",
       "0  A002  R051  02-00-00   59 ST   NQR456      BMT  03/12/2016  03:00:00   \n",
       "1  A002  R051  02-00-00   59 ST   NQR456      BMT  03/12/2016  07:00:00   \n",
       "2  A002  R051  02-00-00   59 ST   NQR456      BMT  03/12/2016  11:00:00   \n",
       "3  A002  R051  02-00-00   59 ST   NQR456      BMT  03/12/2016  15:00:00   \n",
       "4  A002  R051  02-00-00   59 ST   NQR456      BMT  03/12/2016  19:00:00   \n",
       "\n",
       "      DESC  ENTRIES    EXITS  \n",
       "0  REGULAR  5583673  1884949  \n",
       "1  REGULAR  5583689  1884968  \n",
       "2  REGULAR  5583785  1885067  \n",
       "3  REGULAR  5584037  1885157  \n",
       "4  REGULAR  5584482  1885250  "
      ]
     },
     "execution_count": 40,
     "metadata": {},
     "output_type": "execute_result"
    }
   ],
   "source": [
    "def load_local_data():\n",
    "    csv_path = os.path.join(os.getcwd(), 'data/*.txt')\n",
    "    # sort the files (by date stamp)\n",
    "    all_files = sorted(glob.glob(csv_path))\n",
    "    \n",
    "    print 'reading data from files:'\n",
    "    for f in all_files:\n",
    "        print f\n",
    "    print 'IMPORTANT NOTE: files in the folder must be consecutive! It is up to you to make sure there are not gaps.'\n",
    "    \n",
    "    data = pd.concat((pd.read_csv(f) for f in all_files))\n",
    "    \n",
    "    # strip whitespace off column headers (eg 'EXITS               ' has trailing spaces)\n",
    "    data = data.rename(columns=lambda x: x.strip())\n",
    "    return data\n",
    "\n",
    "data = load_local_data()\n",
    "print \"\\ngot %i rows total.\" % len(data)\n",
    "data.head()"
   ]
  },
  {
   "cell_type": "code",
   "execution_count": 41,
   "metadata": {
    "collapsed": false
   },
   "outputs": [
    {
     "name": "stdout",
     "output_type": "stream",
     "text": [
      "373\n"
     ]
    }
   ],
   "source": [
    "# How many stations are there?\n",
    "unique_stations = data.STATION.unique()\n",
    "print len(unique_stations)"
   ]
  },
  {
   "cell_type": "code",
   "execution_count": 42,
   "metadata": {
    "collapsed": false
   },
   "outputs": [
    {
     "data": {
      "text/html": [
       "<div>\n",
       "<table border=\"1\" class=\"dataframe\">\n",
       "  <thead>\n",
       "    <tr style=\"text-align: right;\">\n",
       "      <th></th>\n",
       "      <th>C/A</th>\n",
       "      <th>UNIT</th>\n",
       "      <th>SCP</th>\n",
       "      <th>STATION</th>\n",
       "      <th>LINENAME</th>\n",
       "      <th>DIVISION</th>\n",
       "      <th>DATE</th>\n",
       "      <th>TIME</th>\n",
       "      <th>DESC</th>\n",
       "      <th>ENTRIES</th>\n",
       "      <th>EXITS</th>\n",
       "      <th>DATETIME</th>\n",
       "    </tr>\n",
       "  </thead>\n",
       "  <tbody>\n",
       "    <tr>\n",
       "      <th>0</th>\n",
       "      <td>A002</td>\n",
       "      <td>R051</td>\n",
       "      <td>02-00-00</td>\n",
       "      <td>59 ST</td>\n",
       "      <td>NQR456</td>\n",
       "      <td>BMT</td>\n",
       "      <td>03/12/2016</td>\n",
       "      <td>03:00:00</td>\n",
       "      <td>REGULAR</td>\n",
       "      <td>5583673</td>\n",
       "      <td>1884949</td>\n",
       "      <td>2016-03-12 03:00:00</td>\n",
       "    </tr>\n",
       "    <tr>\n",
       "      <th>1</th>\n",
       "      <td>A002</td>\n",
       "      <td>R051</td>\n",
       "      <td>02-00-00</td>\n",
       "      <td>59 ST</td>\n",
       "      <td>NQR456</td>\n",
       "      <td>BMT</td>\n",
       "      <td>03/12/2016</td>\n",
       "      <td>07:00:00</td>\n",
       "      <td>REGULAR</td>\n",
       "      <td>5583689</td>\n",
       "      <td>1884968</td>\n",
       "      <td>2016-03-12 07:00:00</td>\n",
       "    </tr>\n",
       "    <tr>\n",
       "      <th>2</th>\n",
       "      <td>A002</td>\n",
       "      <td>R051</td>\n",
       "      <td>02-00-00</td>\n",
       "      <td>59 ST</td>\n",
       "      <td>NQR456</td>\n",
       "      <td>BMT</td>\n",
       "      <td>03/12/2016</td>\n",
       "      <td>11:00:00</td>\n",
       "      <td>REGULAR</td>\n",
       "      <td>5583785</td>\n",
       "      <td>1885067</td>\n",
       "      <td>2016-03-12 11:00:00</td>\n",
       "    </tr>\n",
       "    <tr>\n",
       "      <th>3</th>\n",
       "      <td>A002</td>\n",
       "      <td>R051</td>\n",
       "      <td>02-00-00</td>\n",
       "      <td>59 ST</td>\n",
       "      <td>NQR456</td>\n",
       "      <td>BMT</td>\n",
       "      <td>03/12/2016</td>\n",
       "      <td>15:00:00</td>\n",
       "      <td>REGULAR</td>\n",
       "      <td>5584037</td>\n",
       "      <td>1885157</td>\n",
       "      <td>2016-03-12 15:00:00</td>\n",
       "    </tr>\n",
       "    <tr>\n",
       "      <th>4</th>\n",
       "      <td>A002</td>\n",
       "      <td>R051</td>\n",
       "      <td>02-00-00</td>\n",
       "      <td>59 ST</td>\n",
       "      <td>NQR456</td>\n",
       "      <td>BMT</td>\n",
       "      <td>03/12/2016</td>\n",
       "      <td>19:00:00</td>\n",
       "      <td>REGULAR</td>\n",
       "      <td>5584482</td>\n",
       "      <td>1885250</td>\n",
       "      <td>2016-03-12 19:00:00</td>\n",
       "    </tr>\n",
       "  </tbody>\n",
       "</table>\n",
       "</div>"
      ],
      "text/plain": [
       "    C/A  UNIT       SCP STATION LINENAME DIVISION        DATE      TIME  \\\n",
       "0  A002  R051  02-00-00   59 ST   NQR456      BMT  03/12/2016  03:00:00   \n",
       "1  A002  R051  02-00-00   59 ST   NQR456      BMT  03/12/2016  07:00:00   \n",
       "2  A002  R051  02-00-00   59 ST   NQR456      BMT  03/12/2016  11:00:00   \n",
       "3  A002  R051  02-00-00   59 ST   NQR456      BMT  03/12/2016  15:00:00   \n",
       "4  A002  R051  02-00-00   59 ST   NQR456      BMT  03/12/2016  19:00:00   \n",
       "\n",
       "      DESC  ENTRIES    EXITS            DATETIME  \n",
       "0  REGULAR  5583673  1884949 2016-03-12 03:00:00  \n",
       "1  REGULAR  5583689  1884968 2016-03-12 07:00:00  \n",
       "2  REGULAR  5583785  1885067 2016-03-12 11:00:00  \n",
       "3  REGULAR  5584037  1885157 2016-03-12 15:00:00  \n",
       "4  REGULAR  5584482  1885250 2016-03-12 19:00:00  "
      ]
     },
     "execution_count": 42,
     "metadata": {},
     "output_type": "execute_result"
    }
   ],
   "source": [
    "# make a datetime column\n",
    "data['DATETIME'] = pd.to_datetime((data.DATE + ' ' + data.TIME), format=\"%m/%d/%Y %H:%M:%S\")\n",
    "data.head()"
   ]
  },
  {
   "cell_type": "code",
   "execution_count": 43,
   "metadata": {
    "collapsed": false
   },
   "outputs": [],
   "source": [
    "# Sort data by DATETIME\n",
    "# data.sort_values(by='DATETIME', inplace=True)\n",
    "# data.head()"
   ]
  },
  {
   "cell_type": "code",
   "execution_count": 44,
   "metadata": {
    "collapsed": false
   },
   "outputs": [],
   "source": [
    "# Group by turnstile\n",
    "turnstile_groupby = data.groupby(['C/A','UNIT','SCP','STATION'])\n",
    "\n",
    "for diff_field in ('ENTRIES','EXITS'):\n",
    "    data[diff_field + '_DIFF'] = turnstile_groupby[diff_field].transform(pd.Series.diff)\n"
   ]
  },
  {
   "cell_type": "code",
   "execution_count": 45,
   "metadata": {
    "collapsed": false
   },
   "outputs": [
    {
     "name": "stdout",
     "output_type": "stream",
     "text": [
      "the number of NaN entries should equal the total unique turnstiles.\n",
      "4595 4595\n"
     ]
    }
   ],
   "source": [
    "# sanity check for getting the differences:\n",
    "nan_entries = len(data[data.ENTRIES_DIFF.isnull()])\n",
    "total_unique_turnstiles = len(turnstile_groupby)\n",
    "print 'the number of NaN entries should equal the total unique turnstiles.'\n",
    "print nan_entries, total_unique_turnstiles\n",
    "\n",
    "assert nan_entries == total_unique_turnstiles"
   ]
  },
  {
   "cell_type": "markdown",
   "metadata": {},
   "source": [
    "## TODO\n",
    "* Remove stations with negative ENTRIES_DIFF's\n"
   ]
  },
  {
   "cell_type": "code",
   "execution_count": 46,
   "metadata": {
    "collapsed": false
   },
   "outputs": [
    {
     "name": "stdout",
     "output_type": "stream",
     "text": [
      "negative entries:\n",
      "3955\n",
      "8550\n",
      "3955\n"
     ]
    }
   ],
   "source": [
    "print 'negative entries:'\n",
    "print len(data[(data.ENTRIES_DIFF < 0)])\n",
    "\n",
    "# if you count NaN's\n",
    "print len(data[~(data.ENTRIES_DIFF >= 0)])\n",
    "# if you drop the NaN's first\n",
    "print len(data.dropna()[~(data.dropna().ENTRIES_DIFF >= 0)])"
   ]
  },
  {
   "cell_type": "markdown",
   "metadata": {},
   "source": [
    "## Next, get the total station counts\n",
    "To do this, groupby station and datetime, and sum the diffs across turnstiles"
   ]
  },
  {
   "cell_type": "code",
   "execution_count": 47,
   "metadata": {
    "collapsed": false
   },
   "outputs": [
    {
     "data": {
      "text/html": [
       "<div>\n",
       "<table border=\"1\" class=\"dataframe\">\n",
       "  <thead>\n",
       "    <tr style=\"text-align: right;\">\n",
       "      <th></th>\n",
       "      <th>STATION</th>\n",
       "      <th>DATETIME</th>\n",
       "      <th>DATE</th>\n",
       "      <th>TIME</th>\n",
       "      <th>ENTRIES</th>\n",
       "      <th>EXITS</th>\n",
       "    </tr>\n",
       "  </thead>\n",
       "  <tbody>\n",
       "    <tr>\n",
       "      <th>0</th>\n",
       "      <td>1 AV</td>\n",
       "      <td>2016-03-12 03:00:00</td>\n",
       "      <td>03/12/2016</td>\n",
       "      <td>03:00:00</td>\n",
       "      <td>NaN</td>\n",
       "      <td>NaN</td>\n",
       "    </tr>\n",
       "    <tr>\n",
       "      <th>1</th>\n",
       "      <td>1 AV</td>\n",
       "      <td>2016-03-12 07:00:00</td>\n",
       "      <td>03/12/2016</td>\n",
       "      <td>07:00:00</td>\n",
       "      <td>543</td>\n",
       "      <td>544</td>\n",
       "    </tr>\n",
       "    <tr>\n",
       "      <th>2</th>\n",
       "      <td>1 AV</td>\n",
       "      <td>2016-03-12 11:00:00</td>\n",
       "      <td>03/12/2016</td>\n",
       "      <td>11:00:00</td>\n",
       "      <td>2141</td>\n",
       "      <td>2070</td>\n",
       "    </tr>\n",
       "    <tr>\n",
       "      <th>3</th>\n",
       "      <td>1 AV</td>\n",
       "      <td>2016-03-12 15:00:00</td>\n",
       "      <td>03/12/2016</td>\n",
       "      <td>15:00:00</td>\n",
       "      <td>4508</td>\n",
       "      <td>2855</td>\n",
       "    </tr>\n",
       "    <tr>\n",
       "      <th>4</th>\n",
       "      <td>1 AV</td>\n",
       "      <td>2016-03-12 19:00:00</td>\n",
       "      <td>03/12/2016</td>\n",
       "      <td>19:00:00</td>\n",
       "      <td>5290</td>\n",
       "      <td>3598</td>\n",
       "    </tr>\n",
       "  </tbody>\n",
       "</table>\n",
       "</div>"
      ],
      "text/plain": [
       "  STATION            DATETIME        DATE      TIME  ENTRIES  EXITS\n",
       "0    1 AV 2016-03-12 03:00:00  03/12/2016  03:00:00      NaN    NaN\n",
       "1    1 AV 2016-03-12 07:00:00  03/12/2016  07:00:00      543    544\n",
       "2    1 AV 2016-03-12 11:00:00  03/12/2016  11:00:00     2141   2070\n",
       "3    1 AV 2016-03-12 15:00:00  03/12/2016  15:00:00     4508   2855\n",
       "4    1 AV 2016-03-12 19:00:00  03/12/2016  19:00:00     5290   3598"
      ]
     },
     "execution_count": 47,
     "metadata": {},
     "output_type": "execute_result"
    }
   ],
   "source": [
    "# group by station name and datetime,\n",
    "station_time_groupby = data.groupby(['STATION','DATETIME','DATE','TIME'], as_index=False)\n",
    "\n",
    "station_period_totals = station_time_groupby[['ENTRIES_DIFF', 'EXITS_DIFF']].sum()\n",
    "\n",
    "def remove_suffix(col_name):\n",
    "    first_underscore = col_name.find('_')\n",
    "    if first_underscore != -1:\n",
    "        return col_name[:first_underscore]\n",
    "    return col_name\n",
    "\n",
    "# rename the columns, dropping everything after and including the first underscore\n",
    "station_period_totals.columns = [remove_suffix(column) for column in station_period_totals.columns]\n",
    "\n",
    "# drop NaN\n",
    "# station_period_totals.dropna(inplace=True)\n",
    "station_period_totals.head()"
   ]
  },
  {
   "cell_type": "markdown",
   "metadata": {
    "collapsed": true
   },
   "source": [
    "## Try it Zhanna's way and see if you get the same result"
   ]
  },
  {
   "cell_type": "code",
   "execution_count": 48,
   "metadata": {
    "collapsed": false
   },
   "outputs": [
    {
     "data": {
      "text/html": [
       "<div>\n",
       "<table border=\"1\" class=\"dataframe\">\n",
       "  <thead>\n",
       "    <tr style=\"text-align: right;\">\n",
       "      <th></th>\n",
       "      <th></th>\n",
       "      <th>ENTRIES</th>\n",
       "      <th>EXITS</th>\n",
       "    </tr>\n",
       "    <tr>\n",
       "      <th>STATION</th>\n",
       "      <th>DATETIME</th>\n",
       "      <th></th>\n",
       "      <th></th>\n",
       "    </tr>\n",
       "  </thead>\n",
       "  <tbody>\n",
       "    <tr>\n",
       "      <th rowspan=\"5\" valign=\"top\">1 AV</th>\n",
       "      <th>2016-03-12 03:00:00</th>\n",
       "      <td>1559766030</td>\n",
       "      <td>3475080175</td>\n",
       "    </tr>\n",
       "    <tr>\n",
       "      <th>2016-03-12 07:00:00</th>\n",
       "      <td>1559766573</td>\n",
       "      <td>3475080719</td>\n",
       "    </tr>\n",
       "    <tr>\n",
       "      <th>2016-03-12 11:00:00</th>\n",
       "      <td>1559768714</td>\n",
       "      <td>3475082789</td>\n",
       "    </tr>\n",
       "    <tr>\n",
       "      <th>2016-03-12 15:00:00</th>\n",
       "      <td>1559773222</td>\n",
       "      <td>3475085644</td>\n",
       "    </tr>\n",
       "    <tr>\n",
       "      <th>2016-03-12 19:00:00</th>\n",
       "      <td>1559778512</td>\n",
       "      <td>3475089242</td>\n",
       "    </tr>\n",
       "  </tbody>\n",
       "</table>\n",
       "</div>"
      ],
      "text/plain": [
       "                                ENTRIES       EXITS\n",
       "STATION DATETIME                                   \n",
       "1 AV    2016-03-12 03:00:00  1559766030  3475080175\n",
       "        2016-03-12 07:00:00  1559766573  3475080719\n",
       "        2016-03-12 11:00:00  1559768714  3475082789\n",
       "        2016-03-12 15:00:00  1559773222  3475085644\n",
       "        2016-03-12 19:00:00  1559778512  3475089242"
      ]
     },
     "execution_count": 48,
     "metadata": {},
     "output_type": "execute_result"
    }
   ],
   "source": [
    "# Zhanna: you could also group by station and datetime, sum the entries & exits, then do the diff.\n",
    "# Use level=0 for MultiIndex on station.\n",
    "# Since you aren't using turnstile-level data in the analysis, sum them and find the diffs to get the same result!\n",
    "\n",
    "zhanna_station_groupby = data.drop(['ENTRIES_DIFF','EXITS_DIFF'], axis=1).groupby(['STATION','DATETIME'])\n",
    "# summed cumulative entries and exits, per station\n",
    "zhanna_station_groupby.sum().head()"
   ]
  },
  {
   "cell_type": "code",
   "execution_count": 49,
   "metadata": {
    "collapsed": false
   },
   "outputs": [
    {
     "data": {
      "text/html": [
       "<div>\n",
       "<table border=\"1\" class=\"dataframe\">\n",
       "  <thead>\n",
       "    <tr style=\"text-align: right;\">\n",
       "      <th></th>\n",
       "      <th>STATION</th>\n",
       "      <th>DATETIME</th>\n",
       "      <th>ENTRIES</th>\n",
       "      <th>EXITS</th>\n",
       "    </tr>\n",
       "  </thead>\n",
       "  <tbody>\n",
       "    <tr>\n",
       "      <th>0</th>\n",
       "      <td>1 AV</td>\n",
       "      <td>2016-03-12 03:00:00</td>\n",
       "      <td>NaN</td>\n",
       "      <td>NaN</td>\n",
       "    </tr>\n",
       "    <tr>\n",
       "      <th>1</th>\n",
       "      <td>1 AV</td>\n",
       "      <td>2016-03-12 07:00:00</td>\n",
       "      <td>543</td>\n",
       "      <td>544</td>\n",
       "    </tr>\n",
       "    <tr>\n",
       "      <th>2</th>\n",
       "      <td>1 AV</td>\n",
       "      <td>2016-03-12 11:00:00</td>\n",
       "      <td>2141</td>\n",
       "      <td>2070</td>\n",
       "    </tr>\n",
       "    <tr>\n",
       "      <th>3</th>\n",
       "      <td>1 AV</td>\n",
       "      <td>2016-03-12 15:00:00</td>\n",
       "      <td>4508</td>\n",
       "      <td>2855</td>\n",
       "    </tr>\n",
       "    <tr>\n",
       "      <th>4</th>\n",
       "      <td>1 AV</td>\n",
       "      <td>2016-03-12 19:00:00</td>\n",
       "      <td>5290</td>\n",
       "      <td>3598</td>\n",
       "    </tr>\n",
       "  </tbody>\n",
       "</table>\n",
       "</div>"
      ],
      "text/plain": [
       "  STATION            DATETIME  ENTRIES  EXITS\n",
       "0    1 AV 2016-03-12 03:00:00      NaN    NaN\n",
       "1    1 AV 2016-03-12 07:00:00      543    544\n",
       "2    1 AV 2016-03-12 11:00:00     2141   2070\n",
       "3    1 AV 2016-03-12 15:00:00     4508   2855\n",
       "4    1 AV 2016-03-12 19:00:00     5290   3598"
      ]
     },
     "execution_count": 49,
     "metadata": {},
     "output_type": "execute_result"
    }
   ],
   "source": [
    "# diff of summed cumulative entries\n",
    "zhanna_station_counts_timeblock = zhanna_station_groupby.sum().diff()\n",
    "zhanna_station_counts_timeblock.reset_index(inplace=True)\n",
    "# zhanna_station_counts_timeblock.dropna(inplace=True)\n",
    "zhanna_station_counts_timeblock.head()"
   ]
  },
  {
   "cell_type": "code",
   "execution_count": 50,
   "metadata": {
    "collapsed": false
   },
   "outputs": [
    {
     "data": {
      "text/plain": [
       "0"
      ]
     },
     "execution_count": 50,
     "metadata": {},
     "output_type": "execute_result"
    }
   ],
   "source": [
    "# these 675 are a difference in NaN rows which were dropped -- ie when I uncommented the .dropna lines above, \n",
    "# the difference in len was 675\n",
    "\n",
    "len(zhanna_station_counts_timeblock['ENTRIES']) - len(station_period_totals['ENTRIES'])"
   ]
  },
  {
   "cell_type": "code",
   "execution_count": 51,
   "metadata": {
    "collapsed": false
   },
   "outputs": [
    {
     "name": "stdout",
     "output_type": "stream",
     "text": [
      "83772 83772\n"
     ]
    },
    {
     "data": {
      "text/html": [
       "<div>\n",
       "<table border=\"1\" class=\"dataframe\">\n",
       "  <thead>\n",
       "    <tr style=\"text-align: right;\">\n",
       "      <th></th>\n",
       "      <th>STATION</th>\n",
       "      <th>DATETIME</th>\n",
       "      <th>ENTRIES_ZH</th>\n",
       "      <th>ENTRIES</th>\n",
       "    </tr>\n",
       "  </thead>\n",
       "  <tbody>\n",
       "    <tr>\n",
       "      <th>0</th>\n",
       "      <td>1 AV</td>\n",
       "      <td>2016-03-12 03:00:00</td>\n",
       "      <td>NaN</td>\n",
       "      <td>NaN</td>\n",
       "    </tr>\n",
       "    <tr>\n",
       "      <th>1</th>\n",
       "      <td>1 AV</td>\n",
       "      <td>2016-03-12 07:00:00</td>\n",
       "      <td>543</td>\n",
       "      <td>543</td>\n",
       "    </tr>\n",
       "    <tr>\n",
       "      <th>2</th>\n",
       "      <td>1 AV</td>\n",
       "      <td>2016-03-12 11:00:00</td>\n",
       "      <td>2141</td>\n",
       "      <td>2141</td>\n",
       "    </tr>\n",
       "    <tr>\n",
       "      <th>3</th>\n",
       "      <td>1 AV</td>\n",
       "      <td>2016-03-12 15:00:00</td>\n",
       "      <td>4508</td>\n",
       "      <td>4508</td>\n",
       "    </tr>\n",
       "    <tr>\n",
       "      <th>4</th>\n",
       "      <td>1 AV</td>\n",
       "      <td>2016-03-12 19:00:00</td>\n",
       "      <td>5290</td>\n",
       "      <td>5290</td>\n",
       "    </tr>\n",
       "  </tbody>\n",
       "</table>\n",
       "</div>"
      ],
      "text/plain": [
       "  STATION            DATETIME  ENTRIES_ZH  ENTRIES\n",
       "0    1 AV 2016-03-12 03:00:00         NaN      NaN\n",
       "1    1 AV 2016-03-12 07:00:00         543      543\n",
       "2    1 AV 2016-03-12 11:00:00        2141     2141\n",
       "3    1 AV 2016-03-12 15:00:00        4508     4508\n",
       "4    1 AV 2016-03-12 19:00:00        5290     5290"
      ]
     },
     "execution_count": 51,
     "metadata": {},
     "output_type": "execute_result"
    }
   ],
   "source": [
    "zhanna_diff_df = pd.concat([\n",
    "    zhanna_station_counts_timeblock.drop('EXITS', axis=1).rename(columns={'ENTRIES':'ENTRIES_ZH'}), \n",
    "    station_period_totals.ENTRIES], axis=1)\n",
    "print len(zhanna_diff_df), len(station_period_totals)\n",
    "assert len(zhanna_diff_df) == len(station_period_totals)\n",
    "zhanna_diff_df.head()"
   ]
  },
  {
   "cell_type": "code",
   "execution_count": 52,
   "metadata": {
    "collapsed": false
   },
   "outputs": [
    {
     "data": {
      "text/html": [
       "<div>\n",
       "<table border=\"1\" class=\"dataframe\">\n",
       "  <thead>\n",
       "    <tr style=\"text-align: right;\">\n",
       "      <th></th>\n",
       "      <th>STATION</th>\n",
       "      <th>DATETIME</th>\n",
       "      <th>ENTRIES_ZH</th>\n",
       "      <th>ENTRIES</th>\n",
       "    </tr>\n",
       "  </thead>\n",
       "  <tbody>\n",
       "    <tr>\n",
       "      <th>0</th>\n",
       "      <td>1 AV</td>\n",
       "      <td>2016-03-12 03:00:00</td>\n",
       "      <td>NaN</td>\n",
       "      <td>NaN</td>\n",
       "    </tr>\n",
       "    <tr>\n",
       "      <th>116</th>\n",
       "      <td>1 AV</td>\n",
       "      <td>2016-03-31 09:25:33</td>\n",
       "      <td>-442454561</td>\n",
       "      <td>451</td>\n",
       "    </tr>\n",
       "    <tr>\n",
       "      <th>117</th>\n",
       "      <td>1 AV</td>\n",
       "      <td>2016-03-31 12:00:00</td>\n",
       "      <td>442460148</td>\n",
       "      <td>5136</td>\n",
       "    </tr>\n",
       "    <tr>\n",
       "      <th>126</th>\n",
       "      <td>103 ST</td>\n",
       "      <td>2016-03-12 00:00:00</td>\n",
       "      <td>-1408495191</td>\n",
       "      <td>NaN</td>\n",
       "    </tr>\n",
       "    <tr>\n",
       "      <th>141</th>\n",
       "      <td>103 ST</td>\n",
       "      <td>2016-03-14 10:22:21</td>\n",
       "      <td>-89483544</td>\n",
       "      <td>1030</td>\n",
       "    </tr>\n",
       "  </tbody>\n",
       "</table>\n",
       "</div>"
      ],
      "text/plain": [
       "    STATION            DATETIME  ENTRIES_ZH  ENTRIES\n",
       "0      1 AV 2016-03-12 03:00:00         NaN      NaN\n",
       "116    1 AV 2016-03-31 09:25:33  -442454561      451\n",
       "117    1 AV 2016-03-31 12:00:00   442460148     5136\n",
       "126  103 ST 2016-03-12 00:00:00 -1408495191      NaN\n",
       "141  103 ST 2016-03-14 10:22:21   -89483544     1030"
      ]
     },
     "execution_count": 52,
     "metadata": {},
     "output_type": "execute_result"
    }
   ],
   "source": [
    "zhanna_diff_df[zhanna_diff_df.ENTRIES != zhanna_diff_df.ENTRIES_ZH].head()"
   ]
  },
  {
   "cell_type": "code",
   "execution_count": 53,
   "metadata": {
    "collapsed": false
   },
   "outputs": [
    {
     "data": {
      "text/html": [
       "<div>\n",
       "<table border=\"1\" class=\"dataframe\">\n",
       "  <thead>\n",
       "    <tr style=\"text-align: right;\">\n",
       "      <th></th>\n",
       "      <th>ENTRIES_ZH</th>\n",
       "      <th>ENTRIES</th>\n",
       "    </tr>\n",
       "  </thead>\n",
       "  <tbody>\n",
       "    <tr>\n",
       "      <th>count</th>\n",
       "      <td>8.377100e+04</td>\n",
       "      <td>8.309600e+04</td>\n",
       "    </tr>\n",
       "    <tr>\n",
       "      <th>mean</th>\n",
       "      <td>-1.797877e+04</td>\n",
       "      <td>2.250278e+04</td>\n",
       "    </tr>\n",
       "    <tr>\n",
       "      <th>std</th>\n",
       "      <td>5.730463e+08</td>\n",
       "      <td>6.390402e+06</td>\n",
       "    </tr>\n",
       "    <tr>\n",
       "      <th>min</th>\n",
       "      <td>-7.429105e+09</td>\n",
       "      <td>-2.348442e+08</td>\n",
       "    </tr>\n",
       "    <tr>\n",
       "      <th>25%</th>\n",
       "      <td>-1.386600e+04</td>\n",
       "      <td>3.700000e+01</td>\n",
       "    </tr>\n",
       "    <tr>\n",
       "      <th>50%</th>\n",
       "      <td>7.820000e+02</td>\n",
       "      <td>2.900000e+02</td>\n",
       "    </tr>\n",
       "    <tr>\n",
       "      <th>75%</th>\n",
       "      <td>1.697400e+04</td>\n",
       "      <td>1.228000e+03</td>\n",
       "    </tr>\n",
       "    <tr>\n",
       "      <th>max</th>\n",
       "      <td>7.264182e+09</td>\n",
       "      <td>1.771416e+09</td>\n",
       "    </tr>\n",
       "  </tbody>\n",
       "</table>\n",
       "</div>"
      ],
      "text/plain": [
       "         ENTRIES_ZH       ENTRIES\n",
       "count  8.377100e+04  8.309600e+04\n",
       "mean  -1.797877e+04  2.250278e+04\n",
       "std    5.730463e+08  6.390402e+06\n",
       "min   -7.429105e+09 -2.348442e+08\n",
       "25%   -1.386600e+04  3.700000e+01\n",
       "50%    7.820000e+02  2.900000e+02\n",
       "75%    1.697400e+04  1.228000e+03\n",
       "max    7.264182e+09  1.771416e+09"
      ]
     },
     "execution_count": 53,
     "metadata": {},
     "output_type": "execute_result"
    }
   ],
   "source": [
    "zhanna_diff_df.describe()"
   ]
  },
  {
   "cell_type": "code",
   "execution_count": 54,
   "metadata": {
    "collapsed": false
   },
   "outputs": [
    {
     "name": "stdout",
     "output_type": "stream",
     "text": [
      "Negative ENTRIES with zhanna groupby.diff vs my transform(pd.Series.diff)\n",
      "22470\n",
      "86\n"
     ]
    }
   ],
   "source": [
    "print 'Negative ENTRIES with zhanna groupby.diff vs my transform(pd.Series.diff)'\n",
    "print len(zhanna_diff_df[zhanna_diff_df.ENTRIES_ZH < 0])\n",
    "print len(zhanna_diff_df[zhanna_diff_df.ENTRIES < 0])"
   ]
  },
  {
   "cell_type": "markdown",
   "metadata": {},
   "source": [
    "## --> RESULTS of `diff` methods comparison\n",
    "The \"zhanna way\" has less NaN's, and it looks like those NaN's are replaced with many, many big negative numbers. \n",
    "Maybe this is due to a buggy behavior in `groupby.diff` ???\n",
    "\n",
    "Or maybe it's because of non-REGULAR entries?\n",
    "\n",
    "I still don't understand it, but I think mine is safer...\n",
    "\n"
   ]
  },
  {
   "cell_type": "markdown",
   "metadata": {},
   "source": [
    "## Clean up: Remove NaN's and negative ENTRIES from station_period_totals"
   ]
  },
  {
   "cell_type": "code",
   "execution_count": 55,
   "metadata": {
    "collapsed": false
   },
   "outputs": [
    {
     "name": "stdout",
     "output_type": "stream",
     "text": [
      "got rid of 762 rows\n"
     ]
    }
   ],
   "source": [
    "pre_cleanup_len = len(station_period_totals)\n",
    "\n",
    "station_period_totals = station_period_totals[station_period_totals.ENTRIES >= 0]\n",
    "\n",
    "print 'got rid of %i rows' % (pre_cleanup_len - len(station_period_totals))"
   ]
  },
  {
   "cell_type": "markdown",
   "metadata": {},
   "source": [
    "## Daily totals per station"
   ]
  },
  {
   "cell_type": "code",
   "execution_count": 56,
   "metadata": {
    "collapsed": false
   },
   "outputs": [
    {
     "data": {
      "text/html": [
       "<div>\n",
       "<table border=\"1\" class=\"dataframe\">\n",
       "  <thead>\n",
       "    <tr style=\"text-align: right;\">\n",
       "      <th></th>\n",
       "      <th>STATION</th>\n",
       "      <th>DATE</th>\n",
       "      <th>ENTRIES</th>\n",
       "      <th>EXITS</th>\n",
       "    </tr>\n",
       "  </thead>\n",
       "  <tbody>\n",
       "    <tr>\n",
       "      <th>0</th>\n",
       "      <td>1 AV</td>\n",
       "      <td>03/12/2016</td>\n",
       "      <td>17542</td>\n",
       "      <td>12265</td>\n",
       "    </tr>\n",
       "    <tr>\n",
       "      <th>1</th>\n",
       "      <td>1 AV</td>\n",
       "      <td>03/13/2016</td>\n",
       "      <td>12724</td>\n",
       "      <td>9090</td>\n",
       "    </tr>\n",
       "    <tr>\n",
       "      <th>2</th>\n",
       "      <td>1 AV</td>\n",
       "      <td>03/14/2016</td>\n",
       "      <td>22301</td>\n",
       "      <td>14618</td>\n",
       "    </tr>\n",
       "    <tr>\n",
       "      <th>3</th>\n",
       "      <td>1 AV</td>\n",
       "      <td>03/15/2016</td>\n",
       "      <td>23331</td>\n",
       "      <td>14377</td>\n",
       "    </tr>\n",
       "    <tr>\n",
       "      <th>4</th>\n",
       "      <td>1 AV</td>\n",
       "      <td>03/16/2016</td>\n",
       "      <td>24622</td>\n",
       "      <td>14891</td>\n",
       "    </tr>\n",
       "  </tbody>\n",
       "</table>\n",
       "</div>"
      ],
      "text/plain": [
       "  STATION        DATE  ENTRIES  EXITS\n",
       "0    1 AV  03/12/2016    17542  12265\n",
       "1    1 AV  03/13/2016    12724   9090\n",
       "2    1 AV  03/14/2016    22301  14618\n",
       "3    1 AV  03/15/2016    23331  14377\n",
       "4    1 AV  03/16/2016    24622  14891"
      ]
     },
     "execution_count": 56,
     "metadata": {},
     "output_type": "execute_result"
    }
   ],
   "source": [
    "daily_station_totals = station_period_totals.drop('DATETIME', axis=1).groupby(['STATION','DATE'], as_index=False).sum()\n",
    "daily_station_totals.head()"
   ]
  },
  {
   "cell_type": "code",
   "execution_count": 57,
   "metadata": {
    "collapsed": false
   },
   "outputs": [
    {
     "data": {
      "text/html": [
       "<div>\n",
       "<table border=\"1\" class=\"dataframe\">\n",
       "  <thead>\n",
       "    <tr style=\"text-align: right;\">\n",
       "      <th></th>\n",
       "      <th>STATION</th>\n",
       "      <th>DATE</th>\n",
       "      <th>ENTRIES</th>\n",
       "      <th>EXITS</th>\n",
       "    </tr>\n",
       "  </thead>\n",
       "  <tbody>\n",
       "    <tr>\n",
       "      <th>6172</th>\n",
       "      <td>NEWARK BM BW</td>\n",
       "      <td>03/20/2016</td>\n",
       "      <td>148779</td>\n",
       "      <td>20242</td>\n",
       "    </tr>\n",
       "    <tr>\n",
       "      <th>1287</th>\n",
       "      <td>34 ST-PENN STA</td>\n",
       "      <td>03/20/2016</td>\n",
       "      <td>78156</td>\n",
       "      <td>71125</td>\n",
       "    </tr>\n",
       "    <tr>\n",
       "      <th>302</th>\n",
       "      <td>14 ST-UNION SQ</td>\n",
       "      <td>03/20/2016</td>\n",
       "      <td>73319</td>\n",
       "      <td>62526</td>\n",
       "    </tr>\n",
       "    <tr>\n",
       "      <th>7302</th>\n",
       "      <td>TIMES SQ-42 ST</td>\n",
       "      <td>03/20/2016</td>\n",
       "      <td>60173</td>\n",
       "      <td>59259</td>\n",
       "    </tr>\n",
       "    <tr>\n",
       "      <th>2295</th>\n",
       "      <td>86 ST</td>\n",
       "      <td>03/20/2016</td>\n",
       "      <td>57284</td>\n",
       "      <td>52600</td>\n",
       "    </tr>\n",
       "    <tr>\n",
       "      <th>1245</th>\n",
       "      <td>34 ST-HERALD SQ</td>\n",
       "      <td>03/20/2016</td>\n",
       "      <td>55698</td>\n",
       "      <td>55579</td>\n",
       "    </tr>\n",
       "    <tr>\n",
       "      <th>1434</th>\n",
       "      <td>42 ST-PORT AUTH</td>\n",
       "      <td>03/20/2016</td>\n",
       "      <td>53454</td>\n",
       "      <td>41323</td>\n",
       "    </tr>\n",
       "    <tr>\n",
       "      <th>974</th>\n",
       "      <td>23 ST</td>\n",
       "      <td>03/20/2016</td>\n",
       "      <td>48543</td>\n",
       "      <td>39611</td>\n",
       "    </tr>\n",
       "    <tr>\n",
       "      <th>4808</th>\n",
       "      <td>GRD CNTRL-42 ST</td>\n",
       "      <td>03/20/2016</td>\n",
       "      <td>44287</td>\n",
       "      <td>42873</td>\n",
       "    </tr>\n",
       "    <tr>\n",
       "      <th>3553</th>\n",
       "      <td>CANAL ST</td>\n",
       "      <td>03/20/2016</td>\n",
       "      <td>40117</td>\n",
       "      <td>29592</td>\n",
       "    </tr>\n",
       "  </tbody>\n",
       "</table>\n",
       "</div>"
      ],
      "text/plain": [
       "              STATION        DATE  ENTRIES  EXITS\n",
       "6172     NEWARK BM BW  03/20/2016   148779  20242\n",
       "1287   34 ST-PENN STA  03/20/2016    78156  71125\n",
       "302    14 ST-UNION SQ  03/20/2016    73319  62526\n",
       "7302   TIMES SQ-42 ST  03/20/2016    60173  59259\n",
       "2295            86 ST  03/20/2016    57284  52600\n",
       "1245  34 ST-HERALD SQ  03/20/2016    55698  55579\n",
       "1434  42 ST-PORT AUTH  03/20/2016    53454  41323\n",
       "974             23 ST  03/20/2016    48543  39611\n",
       "4808  GRD CNTRL-42 ST  03/20/2016    44287  42873\n",
       "3553         CANAL ST  03/20/2016    40117  29592"
      ]
     },
     "execution_count": 57,
     "metadata": {},
     "output_type": "execute_result"
    }
   ],
   "source": [
    "# find top stations for ENTRIES on date of interest\n",
    "date_of_interest = '03/20/2016'\n",
    "top_daily_entries = daily_station_totals[daily_station_totals['DATE'] == date_of_interest].sort_values(by='ENTRIES', ascending=False).head(10)\n",
    "top_daily_entries"
   ]
  },
  {
   "cell_type": "code",
   "execution_count": 65,
   "metadata": {
    "collapsed": false
   },
   "outputs": [
    {
     "data": {
      "text/plain": [
       "<matplotlib.axes._subplots.AxesSubplot at 0x7f4f29b50110>"
      ]
     },
     "execution_count": 65,
     "metadata": {},
     "output_type": "execute_result"
    },
    {
     "data": {
      "image/png": "[encoded data removed]",
      "text/plain": [
       "<matplotlib.figure.Figure at 0x7f4f29a526d0>"
      ]
     },
     "metadata": {},
     "output_type": "display_data"
    }
   ],
   "source": [
    "# for some reason you have to make ascending=True to make barh in descending order...\n",
    "top_daily_entries.sort_values(by='ENTRIES', ascending=True).plot.barh(x='STATION', \n",
    "    y='ENTRIES', \n",
    "    title='Top 10 stations for subway entries on %s' % date_of_interest,\n",
    "    color='lightgrey',\n",
    "    legend=True)"
   ]
  },
  {
   "cell_type": "markdown",
   "metadata": {},
   "source": [
    "# TODO\n",
    "* Do that same graph, but for the month that Lucia did"
   ]
  },
  {
   "cell_type": "code",
   "execution_count": 88,
   "metadata": {
    "collapsed": false
   },
   "outputs": [
    {
     "data": {
      "image/png": "[encoded data removed]",
      "text/plain": [
       "<matplotlib.figure.Figure at 0x7f4f2976efd0>"
      ]
     },
     "metadata": {},
     "output_type": "display_data"
    }
   ],
   "source": [
    "station_of_interest = '14 ST-UNION SQ'\n",
    "\n",
    "fig, ax = plt.subplots(figsize=[15,5])\n",
    "\n",
    "station_period_totals[station_period_totals['STATION'] == station_of_interest][['DATETIME','ENTRIES']].plot(\n",
    "    title='Time-period total entries (usually 4-hour blocks) at %s' % station_of_interest,\n",
    "    x='DATETIME',\n",
    "    y='ENTRIES',\n",
    "    legend=False,\n",
    "    color='darkgrey',\n",
    "    rot=90,\n",
    "    ax=ax)\n",
    "\n",
    "ax.xaxis.set_major_locator(ticker.MultipleLocator(1))\n",
    "\n",
    "plt.show()"
   ]
  },
  {
   "cell_type": "markdown",
   "metadata": {},
   "source": [
    "# TODO\n",
    "* Make sure the selected time period is all **REGULAR**"
   ]
  },
  {
   "cell_type": "markdown",
   "metadata": {},
   "source": [
    "## Heatmap, average entries over 2 month period for single station of interest.\n",
    "Time of day x day of week"
   ]
  },
  {
   "cell_type": "code",
   "execution_count": 60,
   "metadata": {
    "collapsed": false
   },
   "outputs": [
    {
     "name": "stdout",
     "output_type": "stream",
     "text": [
      "for TIMES SQ-42 ST\n"
     ]
    },
    {
     "data": {
      "text/html": [
       "<div>\n",
       "<table border=\"1\" class=\"dataframe\">\n",
       "  <thead>\n",
       "    <tr style=\"text-align: right;\">\n",
       "      <th></th>\n",
       "      <th>DATE</th>\n",
       "      <th>TIME</th>\n",
       "      <th>DATETIME</th>\n",
       "      <th>ENTRIES</th>\n",
       "    </tr>\n",
       "  </thead>\n",
       "  <tbody>\n",
       "    <tr>\n",
       "      <th>79232</th>\n",
       "      <td>03/12/2016</td>\n",
       "      <td>07:00:00</td>\n",
       "      <td>2016-03-12 07:00:00</td>\n",
       "      <td>1764</td>\n",
       "    </tr>\n",
       "    <tr>\n",
       "      <th>79233</th>\n",
       "      <td>03/12/2016</td>\n",
       "      <td>11:00:00</td>\n",
       "      <td>2016-03-12 11:00:00</td>\n",
       "      <td>5697</td>\n",
       "    </tr>\n",
       "    <tr>\n",
       "      <th>79234</th>\n",
       "      <td>03/12/2016</td>\n",
       "      <td>15:00:00</td>\n",
       "      <td>2016-03-12 15:00:00</td>\n",
       "      <td>11660</td>\n",
       "    </tr>\n",
       "    <tr>\n",
       "      <th>79235</th>\n",
       "      <td>03/12/2016</td>\n",
       "      <td>19:00:00</td>\n",
       "      <td>2016-03-12 19:00:00</td>\n",
       "      <td>20360</td>\n",
       "    </tr>\n",
       "    <tr>\n",
       "      <th>79236</th>\n",
       "      <td>03/12/2016</td>\n",
       "      <td>23:00:00</td>\n",
       "      <td>2016-03-12 23:00:00</td>\n",
       "      <td>18524</td>\n",
       "    </tr>\n",
       "  </tbody>\n",
       "</table>\n",
       "</div>"
      ],
      "text/plain": [
       "             DATE      TIME            DATETIME  ENTRIES\n",
       "79232  03/12/2016  07:00:00 2016-03-12 07:00:00     1764\n",
       "79233  03/12/2016  11:00:00 2016-03-12 11:00:00     5697\n",
       "79234  03/12/2016  15:00:00 2016-03-12 15:00:00    11660\n",
       "79235  03/12/2016  19:00:00 2016-03-12 19:00:00    20360\n",
       "79236  03/12/2016  23:00:00 2016-03-12 23:00:00    18524"
      ]
     },
     "execution_count": 60,
     "metadata": {},
     "output_type": "execute_result"
    }
   ],
   "source": [
    "station_of_interest = 'TIMES SQ-42 ST'\n",
    "\n",
    "print 'for %s' % station_of_interest\n",
    "station_entries_data = station_period_totals[station_period_totals.STATION == station_of_interest][\n",
    "    ['DATE','TIME','DATETIME','ENTRIES']]\n",
    "\n",
    "station_entries_data.head()"
   ]
  },
  {
   "cell_type": "code",
   "execution_count": 61,
   "metadata": {
    "collapsed": false
   },
   "outputs": [
    {
     "data": {
      "text/html": [
       "<div>\n",
       "<table border=\"1\" class=\"dataframe\">\n",
       "  <thead>\n",
       "    <tr style=\"text-align: right;\">\n",
       "      <th>DATE</th>\n",
       "      <th>03/12/2016</th>\n",
       "      <th>03/13/2016</th>\n",
       "      <th>03/14/2016</th>\n",
       "      <th>03/15/2016</th>\n",
       "      <th>03/16/2016</th>\n",
       "      <th>03/17/2016</th>\n",
       "      <th>03/18/2016</th>\n",
       "      <th>03/19/2016</th>\n",
       "      <th>03/20/2016</th>\n",
       "      <th>03/21/2016</th>\n",
       "      <th>...</th>\n",
       "      <th>03/23/2016</th>\n",
       "      <th>03/24/2016</th>\n",
       "      <th>03/25/2016</th>\n",
       "      <th>03/26/2016</th>\n",
       "      <th>03/27/2016</th>\n",
       "      <th>03/28/2016</th>\n",
       "      <th>03/29/2016</th>\n",
       "      <th>03/30/2016</th>\n",
       "      <th>03/31/2016</th>\n",
       "      <th>04/01/2016</th>\n",
       "    </tr>\n",
       "    <tr>\n",
       "      <th>TIME</th>\n",
       "      <th></th>\n",
       "      <th></th>\n",
       "      <th></th>\n",
       "      <th></th>\n",
       "      <th></th>\n",
       "      <th></th>\n",
       "      <th></th>\n",
       "      <th></th>\n",
       "      <th></th>\n",
       "      <th></th>\n",
       "      <th></th>\n",
       "      <th></th>\n",
       "      <th></th>\n",
       "      <th></th>\n",
       "      <th></th>\n",
       "      <th></th>\n",
       "      <th></th>\n",
       "      <th></th>\n",
       "      <th></th>\n",
       "      <th></th>\n",
       "      <th></th>\n",
       "    </tr>\n",
       "  </thead>\n",
       "  <tbody>\n",
       "    <tr>\n",
       "      <th>00:00:00</th>\n",
       "      <td>NaN</td>\n",
       "      <td>NaN</td>\n",
       "      <td>11994</td>\n",
       "      <td>13479</td>\n",
       "      <td>19139</td>\n",
       "      <td>19491</td>\n",
       "      <td>20517</td>\n",
       "      <td>19885</td>\n",
       "      <td>17703</td>\n",
       "      <td>11023</td>\n",
       "      <td>...</td>\n",
       "      <td>18676</td>\n",
       "      <td>19935</td>\n",
       "      <td>21578</td>\n",
       "      <td>22427</td>\n",
       "      <td>19947</td>\n",
       "      <td>13364</td>\n",
       "      <td>14832</td>\n",
       "      <td>17847</td>\n",
       "      <td>18867</td>\n",
       "      <td>20247</td>\n",
       "    </tr>\n",
       "    <tr>\n",
       "      <th>04:00:00</th>\n",
       "      <td>NaN</td>\n",
       "      <td>10172</td>\n",
       "      <td>2523</td>\n",
       "      <td>2651</td>\n",
       "      <td>3564</td>\n",
       "      <td>3613</td>\n",
       "      <td>4522</td>\n",
       "      <td>6267</td>\n",
       "      <td>6022</td>\n",
       "      <td>1977</td>\n",
       "      <td>...</td>\n",
       "      <td>3158</td>\n",
       "      <td>3854</td>\n",
       "      <td>4763</td>\n",
       "      <td>7081</td>\n",
       "      <td>6781</td>\n",
       "      <td>2970</td>\n",
       "      <td>2682</td>\n",
       "      <td>2615</td>\n",
       "      <td>3176</td>\n",
       "      <td>3588</td>\n",
       "    </tr>\n",
       "    <tr>\n",
       "      <th>08:00:00</th>\n",
       "      <td>NaN</td>\n",
       "      <td>2280</td>\n",
       "      <td>4542</td>\n",
       "      <td>4851</td>\n",
       "      <td>4083</td>\n",
       "      <td>4908</td>\n",
       "      <td>4640</td>\n",
       "      <td>1891</td>\n",
       "      <td>1720</td>\n",
       "      <td>4631</td>\n",
       "      <td>...</td>\n",
       "      <td>4896</td>\n",
       "      <td>4824</td>\n",
       "      <td>3696</td>\n",
       "      <td>1848</td>\n",
       "      <td>1484</td>\n",
       "      <td>4184</td>\n",
       "      <td>4806</td>\n",
       "      <td>4643</td>\n",
       "      <td>5059</td>\n",
       "      <td>4567</td>\n",
       "    </tr>\n",
       "    <tr>\n",
       "      <th>12:00:00</th>\n",
       "      <td>NaN</td>\n",
       "      <td>5063</td>\n",
       "      <td>8053</td>\n",
       "      <td>13614</td>\n",
       "      <td>11903</td>\n",
       "      <td>12040</td>\n",
       "      <td>13325</td>\n",
       "      <td>7024</td>\n",
       "      <td>9665</td>\n",
       "      <td>12799</td>\n",
       "      <td>...</td>\n",
       "      <td>13457</td>\n",
       "      <td>9386</td>\n",
       "      <td>11108</td>\n",
       "      <td>7518</td>\n",
       "      <td>5284</td>\n",
       "      <td>10344</td>\n",
       "      <td>13516</td>\n",
       "      <td>13987</td>\n",
       "      <td>14450</td>\n",
       "      <td>12881</td>\n",
       "    </tr>\n",
       "    <tr>\n",
       "      <th>16:00:00</th>\n",
       "      <td>NaN</td>\n",
       "      <td>10056</td>\n",
       "      <td>13986</td>\n",
       "      <td>16250</td>\n",
       "      <td>17005</td>\n",
       "      <td>18439</td>\n",
       "      <td>18653</td>\n",
       "      <td>12828</td>\n",
       "      <td>9798</td>\n",
       "      <td>15440</td>\n",
       "      <td>...</td>\n",
       "      <td>17288</td>\n",
       "      <td>17919</td>\n",
       "      <td>19876</td>\n",
       "      <td>12724</td>\n",
       "      <td>9977</td>\n",
       "      <td>15061</td>\n",
       "      <td>17257</td>\n",
       "      <td>17111</td>\n",
       "      <td>17212</td>\n",
       "      <td>17977</td>\n",
       "    </tr>\n",
       "    <tr>\n",
       "      <th>20:00:00</th>\n",
       "      <td>NaN</td>\n",
       "      <td>16565</td>\n",
       "      <td>39736</td>\n",
       "      <td>40245</td>\n",
       "      <td>42348</td>\n",
       "      <td>41941</td>\n",
       "      <td>39415</td>\n",
       "      <td>19709</td>\n",
       "      <td>15265</td>\n",
       "      <td>40268</td>\n",
       "      <td>...</td>\n",
       "      <td>42212</td>\n",
       "      <td>40871</td>\n",
       "      <td>31345</td>\n",
       "      <td>20949</td>\n",
       "      <td>17783</td>\n",
       "      <td>38792</td>\n",
       "      <td>40933</td>\n",
       "      <td>41799</td>\n",
       "      <td>40433</td>\n",
       "      <td>38128</td>\n",
       "    </tr>\n",
       "  </tbody>\n",
       "</table>\n",
       "<p>6 rows × 21 columns</p>\n",
       "</div>"
      ],
      "text/plain": [
       "DATE      03/12/2016  03/13/2016  03/14/2016  03/15/2016  03/16/2016  \\\n",
       "TIME                                                                   \n",
       "00:00:00         NaN         NaN       11994       13479       19139   \n",
       "04:00:00         NaN       10172        2523        2651        3564   \n",
       "08:00:00         NaN        2280        4542        4851        4083   \n",
       "12:00:00         NaN        5063        8053       13614       11903   \n",
       "16:00:00         NaN       10056       13986       16250       17005   \n",
       "20:00:00         NaN       16565       39736       40245       42348   \n",
       "\n",
       "DATE      03/17/2016  03/18/2016  03/19/2016  03/20/2016  03/21/2016  \\\n",
       "TIME                                                                   \n",
       "00:00:00       19491       20517       19885       17703       11023   \n",
       "04:00:00        3613        4522        6267        6022        1977   \n",
       "08:00:00        4908        4640        1891        1720        4631   \n",
       "12:00:00       12040       13325        7024        9665       12799   \n",
       "16:00:00       18439       18653       12828        9798       15440   \n",
       "20:00:00       41941       39415       19709       15265       40268   \n",
       "\n",
       "DATE         ...      03/23/2016  03/24/2016  03/25/2016  03/26/2016  \\\n",
       "TIME         ...                                                       \n",
       "00:00:00     ...           18676       19935       21578       22427   \n",
       "04:00:00     ...            3158        3854        4763        7081   \n",
       "08:00:00     ...            4896        4824        3696        1848   \n",
       "12:00:00     ...           13457        9386       11108        7518   \n",
       "16:00:00     ...           17288       17919       19876       12724   \n",
       "20:00:00     ...           42212       40871       31345       20949   \n",
       "\n",
       "DATE      03/27/2016  03/28/2016  03/29/2016  03/30/2016  03/31/2016  \\\n",
       "TIME                                                                   \n",
       "00:00:00       19947       13364       14832       17847       18867   \n",
       "04:00:00        6781        2970        2682        2615        3176   \n",
       "08:00:00        1484        4184        4806        4643        5059   \n",
       "12:00:00        5284       10344       13516       13987       14450   \n",
       "16:00:00        9977       15061       17257       17111       17212   \n",
       "20:00:00       17783       38792       40933       41799       40433   \n",
       "\n",
       "DATE      04/01/2016  \n",
       "TIME                  \n",
       "00:00:00       20247  \n",
       "04:00:00        3588  \n",
       "08:00:00        4567  \n",
       "12:00:00       12881  \n",
       "16:00:00       17977  \n",
       "20:00:00       38128  \n",
       "\n",
       "[6 rows x 21 columns]"
      ]
     },
     "execution_count": 61,
     "metadata": {},
     "output_type": "execute_result"
    }
   ],
   "source": [
    "station_pivot = station_entries_data.pivot('TIME','DATE','ENTRIES')\n",
    "station_pivot\n",
    "\n",
    "# drop NaN's (within threshold). Ideally you would add to the nearest bracket\n",
    "station_pivot.dropna(axis=0, inplace=True, thresh=2)\n",
    "station_pivot"
   ]
  },
  {
   "cell_type": "code",
   "execution_count": 91,
   "metadata": {
    "collapsed": false
   },
   "outputs": [
    {
     "name": "stdout",
     "output_type": "stream",
     "text": [
      "14 ST-UNION SQ\n"
     ]
    },
    {
     "data": {
      "text/plain": [
       "<matplotlib.axes._subplots.AxesSubplot at 0x7f4f29699050>"
      ]
     },
     "execution_count": 91,
     "metadata": {},
     "output_type": "execute_result"
    },
    {
     "data": {
      "image/png": "[encoded data removed]",
      "text/plain": [
       "<matplotlib.figure.Figure at 0x7f4f2513b790>"
      ]
     },
     "metadata": {},
     "output_type": "display_data"
    }
   ],
   "source": [
    "print station_of_interest\n",
    "\n",
    "fig, ax = plt.subplots(figsize=[15,8])\n",
    "sns.heatmap(station_pivot, ax=ax)"
   ]
  },
  {
   "cell_type": "code",
   "execution_count": null,
   "metadata": {
    "collapsed": true
   },
   "outputs": [],
   "source": []
  }
 ],
 "metadata": {
  "kernelspec": {
   "display_name": "Python 2",
   "language": "python",
   "name": "python2"
  },
  "language_info": {
   "codemirror_mode": {
    "name": "ipython",
    "version": 2
   },
   "file_extension": ".py",
   "mimetype": "text/x-python",
   "name": "python",
   "nbconvert_exporter": "python",
   "pygments_lexer": "ipython2",
   "version": "2.7.11"
  }
 },
 "nbformat": 4,
 "nbformat_minor": 0
}
