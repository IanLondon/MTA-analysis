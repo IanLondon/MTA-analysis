{
 "cells": [
  {
   "cell_type": "code",
   "execution_count": 1,
   "metadata": {
    "collapsed": false
   },
   "outputs": [
    {
     "name": "stderr",
     "output_type": "stream",
     "text": [
      "/home/ian/anaconda2/lib/python2.7/site-packages/matplotlib/font_manager.py:273: UserWarning: Matplotlib is building the font cache using fc-list. This may take a moment.\n",
      "  warnings.warn('Matplotlib is building the font cache using fc-list. This may take a moment.')\n",
      "/home/ian/anaconda2/lib/python2.7/site-packages/matplotlib/__init__.py:872: UserWarning: axes.color_cycle is deprecated and replaced with axes.prop_cycle; please use the latter.\n",
      "  warnings.warn(self.msg_depr % (key, alt_key))\n"
     ]
    }
   ],
   "source": [
    "%matplotlib inline\n",
    "from matplotlib import pyplot as plt\n",
    "import matplotlib.ticker as ticker\n",
    "import numpy as np\n",
    "import seaborn as sns\n",
    "import pandas as pd\n",
    "from datetime import datetime\n",
    "\n",
    "days_mapper = {0:'Mon',1:'Tues',2:'Weds',3:'Thurs',4:'Fri',5:'Sat',6:'Sun'}\n",
    "\n",
    "import os\n",
    "import glob"
   ]
  },
  {
   "cell_type": "code",
   "execution_count": 2,
   "metadata": {
    "collapsed": false
   },
   "outputs": [
    {
     "name": "stdout",
     "output_type": "stream",
     "text": [
      "reading data from files:\n",
      "/home/ian/metis/team_benson/data/turnstile_150502.txt\n",
      "/home/ian/metis/team_benson/data/turnstile_150509.txt\n",
      "/home/ian/metis/team_benson/data/turnstile_150516.txt\n",
      "/home/ian/metis/team_benson/data/turnstile_150523.txt\n",
      "/home/ian/metis/team_benson/data/turnstile_150530.txt\n",
      "/home/ian/metis/team_benson/data/turnstile_150606.txt\n",
      "IMPORTANT NOTE: files in the folder must be consecutive! It is up to you to make sure there are not gaps.\n",
      "\n",
      "got 1152582 rows total.\n",
      "date range: 04/25/2015 06/05/2015\n"
     ]
    },
    {
     "data": {
      "text/html": [
       "<div>\n",
       "<table border=\"1\" class=\"dataframe\">\n",
       "  <thead>\n",
       "    <tr style=\"text-align: right;\">\n",
       "      <th></th>\n",
       "      <th>C/A</th>\n",
       "      <th>UNIT</th>\n",
       "      <th>SCP</th>\n",
       "      <th>STATION</th>\n",
       "      <th>LINENAME</th>\n",
       "      <th>DIVISION</th>\n",
       "      <th>DATE</th>\n",
       "      <th>TIME</th>\n",
       "      <th>DESC</th>\n",
       "      <th>ENTRIES</th>\n",
       "      <th>EXITS</th>\n",
       "    </tr>\n",
       "  </thead>\n",
       "  <tbody>\n",
       "    <tr>\n",
       "      <th>0</th>\n",
       "      <td>A002</td>\n",
       "      <td>R051</td>\n",
       "      <td>02-00-00</td>\n",
       "      <td>LEXINGTON AVE</td>\n",
       "      <td>NQR456</td>\n",
       "      <td>BMT</td>\n",
       "      <td>04/25/2015</td>\n",
       "      <td>00:00:00</td>\n",
       "      <td>REGULAR</td>\n",
       "      <td>5106770</td>\n",
       "      <td>1729635</td>\n",
       "    </tr>\n",
       "    <tr>\n",
       "      <th>1</th>\n",
       "      <td>A002</td>\n",
       "      <td>R051</td>\n",
       "      <td>02-00-00</td>\n",
       "      <td>LEXINGTON AVE</td>\n",
       "      <td>NQR456</td>\n",
       "      <td>BMT</td>\n",
       "      <td>04/25/2015</td>\n",
       "      <td>04:00:00</td>\n",
       "      <td>REGULAR</td>\n",
       "      <td>5106810</td>\n",
       "      <td>1729649</td>\n",
       "    </tr>\n",
       "    <tr>\n",
       "      <th>2</th>\n",
       "      <td>A002</td>\n",
       "      <td>R051</td>\n",
       "      <td>02-00-00</td>\n",
       "      <td>LEXINGTON AVE</td>\n",
       "      <td>NQR456</td>\n",
       "      <td>BMT</td>\n",
       "      <td>04/25/2015</td>\n",
       "      <td>08:00:00</td>\n",
       "      <td>REGULAR</td>\n",
       "      <td>5106835</td>\n",
       "      <td>1729680</td>\n",
       "    </tr>\n",
       "    <tr>\n",
       "      <th>3</th>\n",
       "      <td>A002</td>\n",
       "      <td>R051</td>\n",
       "      <td>02-00-00</td>\n",
       "      <td>LEXINGTON AVE</td>\n",
       "      <td>NQR456</td>\n",
       "      <td>BMT</td>\n",
       "      <td>04/25/2015</td>\n",
       "      <td>12:00:00</td>\n",
       "      <td>REGULAR</td>\n",
       "      <td>5106961</td>\n",
       "      <td>1729784</td>\n",
       "    </tr>\n",
       "    <tr>\n",
       "      <th>4</th>\n",
       "      <td>A002</td>\n",
       "      <td>R051</td>\n",
       "      <td>02-00-00</td>\n",
       "      <td>LEXINGTON AVE</td>\n",
       "      <td>NQR456</td>\n",
       "      <td>BMT</td>\n",
       "      <td>04/25/2015</td>\n",
       "      <td>16:00:00</td>\n",
       "      <td>REGULAR</td>\n",
       "      <td>5107250</td>\n",
       "      <td>1729858</td>\n",
       "    </tr>\n",
       "  </tbody>\n",
       "</table>\n",
       "</div>"
      ],
      "text/plain": [
       "    C/A  UNIT       SCP        STATION LINENAME DIVISION        DATE  \\\n",
       "0  A002  R051  02-00-00  LEXINGTON AVE   NQR456      BMT  04/25/2015   \n",
       "1  A002  R051  02-00-00  LEXINGTON AVE   NQR456      BMT  04/25/2015   \n",
       "2  A002  R051  02-00-00  LEXINGTON AVE   NQR456      BMT  04/25/2015   \n",
       "3  A002  R051  02-00-00  LEXINGTON AVE   NQR456      BMT  04/25/2015   \n",
       "4  A002  R051  02-00-00  LEXINGTON AVE   NQR456      BMT  04/25/2015   \n",
       "\n",
       "       TIME     DESC  ENTRIES    EXITS  \n",
       "0  00:00:00  REGULAR  5106770  1729635  \n",
       "1  04:00:00  REGULAR  5106810  1729649  \n",
       "2  08:00:00  REGULAR  5106835  1729680  \n",
       "3  12:00:00  REGULAR  5106961  1729784  \n",
       "4  16:00:00  REGULAR  5107250  1729858  "
      ]
     },
     "execution_count": 2,
     "metadata": {},
     "output_type": "execute_result"
    }
   ],
   "source": [
    "def load_local_data():\n",
    "    csv_path = os.path.join(os.getcwd(), 'data/*.txt')\n",
    "    # sort the files (by date stamp)\n",
    "    all_files = sorted(glob.glob(csv_path))\n",
    "    \n",
    "    print 'reading data from files:'\n",
    "    for f in all_files:\n",
    "        print f\n",
    "    print 'IMPORTANT NOTE: files in the folder must be consecutive! It is up to you to make sure there are not gaps.'\n",
    "    \n",
    "    data = pd.concat((pd.read_csv(f) for f in all_files))\n",
    "    \n",
    "    # strip whitespace off column headers (eg 'EXITS               ' has trailing spaces)\n",
    "    data = data.rename(columns=lambda x: x.strip())\n",
    "    return data\n",
    "\n",
    "data = load_local_data()\n",
    "print \"\\ngot %i rows total.\" % len(data)\n",
    "\n",
    "print 'date range:', data.DATE.min(), data.DATE.max()\n",
    "data.head()"
   ]
  },
  {
   "cell_type": "code",
   "execution_count": 3,
   "metadata": {
    "collapsed": false
   },
   "outputs": [
    {
     "name": "stdout",
     "output_type": "stream",
     "text": [
      "384\n"
     ]
    }
   ],
   "source": [
    "# How many stations are there?\n",
    "unique_stations = data.STATION.unique()\n",
    "print len(unique_stations)"
   ]
  },
  {
   "cell_type": "code",
   "execution_count": 4,
   "metadata": {
    "collapsed": false
   },
   "outputs": [
    {
     "data": {
      "text/html": [
       "<div>\n",
       "<table border=\"1\" class=\"dataframe\">\n",
       "  <thead>\n",
       "    <tr style=\"text-align: right;\">\n",
       "      <th></th>\n",
       "      <th>C/A</th>\n",
       "      <th>UNIT</th>\n",
       "      <th>SCP</th>\n",
       "      <th>STATION</th>\n",
       "      <th>LINENAME</th>\n",
       "      <th>DIVISION</th>\n",
       "      <th>DATE</th>\n",
       "      <th>TIME</th>\n",
       "      <th>DESC</th>\n",
       "      <th>ENTRIES</th>\n",
       "      <th>EXITS</th>\n",
       "      <th>DATETIME</th>\n",
       "    </tr>\n",
       "  </thead>\n",
       "  <tbody>\n",
       "    <tr>\n",
       "      <th>0</th>\n",
       "      <td>A002</td>\n",
       "      <td>R051</td>\n",
       "      <td>02-00-00</td>\n",
       "      <td>LEXINGTON AVE</td>\n",
       "      <td>NQR456</td>\n",
       "      <td>BMT</td>\n",
       "      <td>04/25/2015</td>\n",
       "      <td>00:00:00</td>\n",
       "      <td>REGULAR</td>\n",
       "      <td>5106770</td>\n",
       "      <td>1729635</td>\n",
       "      <td>2015-04-25 00:00:00</td>\n",
       "    </tr>\n",
       "    <tr>\n",
       "      <th>1</th>\n",
       "      <td>A002</td>\n",
       "      <td>R051</td>\n",
       "      <td>02-00-00</td>\n",
       "      <td>LEXINGTON AVE</td>\n",
       "      <td>NQR456</td>\n",
       "      <td>BMT</td>\n",
       "      <td>04/25/2015</td>\n",
       "      <td>04:00:00</td>\n",
       "      <td>REGULAR</td>\n",
       "      <td>5106810</td>\n",
       "      <td>1729649</td>\n",
       "      <td>2015-04-25 04:00:00</td>\n",
       "    </tr>\n",
       "    <tr>\n",
       "      <th>2</th>\n",
       "      <td>A002</td>\n",
       "      <td>R051</td>\n",
       "      <td>02-00-00</td>\n",
       "      <td>LEXINGTON AVE</td>\n",
       "      <td>NQR456</td>\n",
       "      <td>BMT</td>\n",
       "      <td>04/25/2015</td>\n",
       "      <td>08:00:00</td>\n",
       "      <td>REGULAR</td>\n",
       "      <td>5106835</td>\n",
       "      <td>1729680</td>\n",
       "      <td>2015-04-25 08:00:00</td>\n",
       "    </tr>\n",
       "    <tr>\n",
       "      <th>3</th>\n",
       "      <td>A002</td>\n",
       "      <td>R051</td>\n",
       "      <td>02-00-00</td>\n",
       "      <td>LEXINGTON AVE</td>\n",
       "      <td>NQR456</td>\n",
       "      <td>BMT</td>\n",
       "      <td>04/25/2015</td>\n",
       "      <td>12:00:00</td>\n",
       "      <td>REGULAR</td>\n",
       "      <td>5106961</td>\n",
       "      <td>1729784</td>\n",
       "      <td>2015-04-25 12:00:00</td>\n",
       "    </tr>\n",
       "    <tr>\n",
       "      <th>4</th>\n",
       "      <td>A002</td>\n",
       "      <td>R051</td>\n",
       "      <td>02-00-00</td>\n",
       "      <td>LEXINGTON AVE</td>\n",
       "      <td>NQR456</td>\n",
       "      <td>BMT</td>\n",
       "      <td>04/25/2015</td>\n",
       "      <td>16:00:00</td>\n",
       "      <td>REGULAR</td>\n",
       "      <td>5107250</td>\n",
       "      <td>1729858</td>\n",
       "      <td>2015-04-25 16:00:00</td>\n",
       "    </tr>\n",
       "  </tbody>\n",
       "</table>\n",
       "</div>"
      ],
      "text/plain": [
       "    C/A  UNIT       SCP        STATION LINENAME DIVISION        DATE  \\\n",
       "0  A002  R051  02-00-00  LEXINGTON AVE   NQR456      BMT  04/25/2015   \n",
       "1  A002  R051  02-00-00  LEXINGTON AVE   NQR456      BMT  04/25/2015   \n",
       "2  A002  R051  02-00-00  LEXINGTON AVE   NQR456      BMT  04/25/2015   \n",
       "3  A002  R051  02-00-00  LEXINGTON AVE   NQR456      BMT  04/25/2015   \n",
       "4  A002  R051  02-00-00  LEXINGTON AVE   NQR456      BMT  04/25/2015   \n",
       "\n",
       "       TIME     DESC  ENTRIES    EXITS            DATETIME  \n",
       "0  00:00:00  REGULAR  5106770  1729635 2015-04-25 00:00:00  \n",
       "1  04:00:00  REGULAR  5106810  1729649 2015-04-25 04:00:00  \n",
       "2  08:00:00  REGULAR  5106835  1729680 2015-04-25 08:00:00  \n",
       "3  12:00:00  REGULAR  5106961  1729784 2015-04-25 12:00:00  \n",
       "4  16:00:00  REGULAR  5107250  1729858 2015-04-25 16:00:00  "
      ]
     },
     "execution_count": 4,
     "metadata": {},
     "output_type": "execute_result"
    }
   ],
   "source": [
    "# make a datetime column\n",
    "data['DATETIME'] = pd.to_datetime((data.DATE + ' ' + data.TIME), format=\"%m/%d/%Y %H:%M:%S\")\n",
    "data.head()"
   ]
  },
  {
   "cell_type": "code",
   "execution_count": 5,
   "metadata": {
    "collapsed": false
   },
   "outputs": [],
   "source": [
    "# Sort data by DATETIME\n",
    "# data.sort_values(by='DATETIME', inplace=True)\n",
    "# data.head()"
   ]
  },
  {
   "cell_type": "code",
   "execution_count": 6,
   "metadata": {
    "collapsed": false
   },
   "outputs": [
    {
     "data": {
      "text/html": [
       "<div>\n",
       "<table border=\"1\" class=\"dataframe\">\n",
       "  <thead>\n",
       "    <tr style=\"text-align: right;\">\n",
       "      <th></th>\n",
       "      <th>C/A</th>\n",
       "      <th>UNIT</th>\n",
       "      <th>SCP</th>\n",
       "      <th>STATION</th>\n",
       "      <th>LINENAME</th>\n",
       "      <th>DIVISION</th>\n",
       "      <th>DATE</th>\n",
       "      <th>TIME</th>\n",
       "      <th>DESC</th>\n",
       "      <th>ENTRIES</th>\n",
       "      <th>EXITS</th>\n",
       "      <th>DATETIME</th>\n",
       "      <th>ENTRIES_DIFF</th>\n",
       "      <th>EXITS_DIFF</th>\n",
       "    </tr>\n",
       "  </thead>\n",
       "  <tbody>\n",
       "    <tr>\n",
       "      <th>0</th>\n",
       "      <td>A002</td>\n",
       "      <td>R051</td>\n",
       "      <td>02-00-00</td>\n",
       "      <td>LEXINGTON AVE</td>\n",
       "      <td>NQR456</td>\n",
       "      <td>BMT</td>\n",
       "      <td>04/25/2015</td>\n",
       "      <td>00:00:00</td>\n",
       "      <td>REGULAR</td>\n",
       "      <td>5106770</td>\n",
       "      <td>1729635</td>\n",
       "      <td>2015-04-25 00:00:00</td>\n",
       "      <td>NaN</td>\n",
       "      <td>NaN</td>\n",
       "    </tr>\n",
       "    <tr>\n",
       "      <th>1</th>\n",
       "      <td>A002</td>\n",
       "      <td>R051</td>\n",
       "      <td>02-00-00</td>\n",
       "      <td>LEXINGTON AVE</td>\n",
       "      <td>NQR456</td>\n",
       "      <td>BMT</td>\n",
       "      <td>04/25/2015</td>\n",
       "      <td>04:00:00</td>\n",
       "      <td>REGULAR</td>\n",
       "      <td>5106810</td>\n",
       "      <td>1729649</td>\n",
       "      <td>2015-04-25 04:00:00</td>\n",
       "      <td>40</td>\n",
       "      <td>14</td>\n",
       "    </tr>\n",
       "    <tr>\n",
       "      <th>2</th>\n",
       "      <td>A002</td>\n",
       "      <td>R051</td>\n",
       "      <td>02-00-00</td>\n",
       "      <td>LEXINGTON AVE</td>\n",
       "      <td>NQR456</td>\n",
       "      <td>BMT</td>\n",
       "      <td>04/25/2015</td>\n",
       "      <td>08:00:00</td>\n",
       "      <td>REGULAR</td>\n",
       "      <td>5106835</td>\n",
       "      <td>1729680</td>\n",
       "      <td>2015-04-25 08:00:00</td>\n",
       "      <td>25</td>\n",
       "      <td>31</td>\n",
       "    </tr>\n",
       "    <tr>\n",
       "      <th>3</th>\n",
       "      <td>A002</td>\n",
       "      <td>R051</td>\n",
       "      <td>02-00-00</td>\n",
       "      <td>LEXINGTON AVE</td>\n",
       "      <td>NQR456</td>\n",
       "      <td>BMT</td>\n",
       "      <td>04/25/2015</td>\n",
       "      <td>12:00:00</td>\n",
       "      <td>REGULAR</td>\n",
       "      <td>5106961</td>\n",
       "      <td>1729784</td>\n",
       "      <td>2015-04-25 12:00:00</td>\n",
       "      <td>126</td>\n",
       "      <td>104</td>\n",
       "    </tr>\n",
       "    <tr>\n",
       "      <th>4</th>\n",
       "      <td>A002</td>\n",
       "      <td>R051</td>\n",
       "      <td>02-00-00</td>\n",
       "      <td>LEXINGTON AVE</td>\n",
       "      <td>NQR456</td>\n",
       "      <td>BMT</td>\n",
       "      <td>04/25/2015</td>\n",
       "      <td>16:00:00</td>\n",
       "      <td>REGULAR</td>\n",
       "      <td>5107250</td>\n",
       "      <td>1729858</td>\n",
       "      <td>2015-04-25 16:00:00</td>\n",
       "      <td>289</td>\n",
       "      <td>74</td>\n",
       "    </tr>\n",
       "  </tbody>\n",
       "</table>\n",
       "</div>"
      ],
      "text/plain": [
       "    C/A  UNIT       SCP        STATION LINENAME DIVISION        DATE  \\\n",
       "0  A002  R051  02-00-00  LEXINGTON AVE   NQR456      BMT  04/25/2015   \n",
       "1  A002  R051  02-00-00  LEXINGTON AVE   NQR456      BMT  04/25/2015   \n",
       "2  A002  R051  02-00-00  LEXINGTON AVE   NQR456      BMT  04/25/2015   \n",
       "3  A002  R051  02-00-00  LEXINGTON AVE   NQR456      BMT  04/25/2015   \n",
       "4  A002  R051  02-00-00  LEXINGTON AVE   NQR456      BMT  04/25/2015   \n",
       "\n",
       "       TIME     DESC  ENTRIES    EXITS            DATETIME  ENTRIES_DIFF  \\\n",
       "0  00:00:00  REGULAR  5106770  1729635 2015-04-25 00:00:00           NaN   \n",
       "1  04:00:00  REGULAR  5106810  1729649 2015-04-25 04:00:00            40   \n",
       "2  08:00:00  REGULAR  5106835  1729680 2015-04-25 08:00:00            25   \n",
       "3  12:00:00  REGULAR  5106961  1729784 2015-04-25 12:00:00           126   \n",
       "4  16:00:00  REGULAR  5107250  1729858 2015-04-25 16:00:00           289   \n",
       "\n",
       "   EXITS_DIFF  \n",
       "0         NaN  \n",
       "1          14  \n",
       "2          31  \n",
       "3         104  \n",
       "4          74  "
      ]
     },
     "execution_count": 6,
     "metadata": {},
     "output_type": "execute_result"
    }
   ],
   "source": [
    "# Group by turnstile\n",
    "turnstile_groupby = data.groupby(['C/A','UNIT','SCP','STATION'])\n",
    "\n",
    "for diff_field in ('ENTRIES','EXITS'):\n",
    "    data[diff_field + '_DIFF'] = turnstile_groupby[diff_field].transform(pd.Series.diff)\n",
    "    \n",
    "# data['ENTRIES_DIFF'] = turnstile_groupby['ENTRIES'].transform(pd.Series.diff)\n",
    "\n",
    "data.head()"
   ]
  },
  {
   "cell_type": "code",
   "execution_count": 7,
   "metadata": {
    "collapsed": false
   },
   "outputs": [
    {
     "data": {
      "text/html": [
       "<div>\n",
       "<table border=\"1\" class=\"dataframe\">\n",
       "  <thead>\n",
       "    <tr style=\"text-align: right;\">\n",
       "      <th></th>\n",
       "      <th>C/A</th>\n",
       "      <th>UNIT</th>\n",
       "      <th>SCP</th>\n",
       "      <th>STATION</th>\n",
       "      <th>LINENAME</th>\n",
       "      <th>DIVISION</th>\n",
       "      <th>DATE</th>\n",
       "      <th>TIME</th>\n",
       "      <th>DESC</th>\n",
       "      <th>ENTRIES</th>\n",
       "      <th>EXITS</th>\n",
       "      <th>DATETIME</th>\n",
       "      <th>ENTRIES_DIFF</th>\n",
       "      <th>EXITS_DIFF</th>\n",
       "    </tr>\n",
       "  </thead>\n",
       "  <tbody>\n",
       "    <tr>\n",
       "      <th>1113</th>\n",
       "      <td>A010</td>\n",
       "      <td>R080</td>\n",
       "      <td>00-00-00</td>\n",
       "      <td>57 ST-7 AVE</td>\n",
       "      <td>NQR</td>\n",
       "      <td>BMT</td>\n",
       "      <td>04/28/2015</td>\n",
       "      <td>12:00:00</td>\n",
       "      <td>RECOVR AUD</td>\n",
       "      <td>143112</td>\n",
       "      <td>85613</td>\n",
       "      <td>2015-04-28 12:00:00</td>\n",
       "      <td>368</td>\n",
       "      <td>589</td>\n",
       "    </tr>\n",
       "    <tr>\n",
       "      <th>1155</th>\n",
       "      <td>A010</td>\n",
       "      <td>R080</td>\n",
       "      <td>00-00-01</td>\n",
       "      <td>57 ST-7 AVE</td>\n",
       "      <td>NQR</td>\n",
       "      <td>BMT</td>\n",
       "      <td>04/28/2015</td>\n",
       "      <td>12:00:00</td>\n",
       "      <td>RECOVR AUD</td>\n",
       "      <td>12250490</td>\n",
       "      <td>4537590</td>\n",
       "      <td>2015-04-28 12:00:00</td>\n",
       "      <td>220</td>\n",
       "      <td>409</td>\n",
       "    </tr>\n",
       "    <tr>\n",
       "      <th>1197</th>\n",
       "      <td>A010</td>\n",
       "      <td>R080</td>\n",
       "      <td>00-00-02</td>\n",
       "      <td>57 ST-7 AVE</td>\n",
       "      <td>NQR</td>\n",
       "      <td>BMT</td>\n",
       "      <td>04/28/2015</td>\n",
       "      <td>12:00:00</td>\n",
       "      <td>RECOVR AUD</td>\n",
       "      <td>8936510</td>\n",
       "      <td>3456835</td>\n",
       "      <td>2015-04-28 12:00:00</td>\n",
       "      <td>180</td>\n",
       "      <td>307</td>\n",
       "    </tr>\n",
       "    <tr>\n",
       "      <th>1239</th>\n",
       "      <td>A010</td>\n",
       "      <td>R080</td>\n",
       "      <td>00-00-03</td>\n",
       "      <td>57 ST-7 AVE</td>\n",
       "      <td>NQR</td>\n",
       "      <td>BMT</td>\n",
       "      <td>04/28/2015</td>\n",
       "      <td>12:00:00</td>\n",
       "      <td>RECOVR AUD</td>\n",
       "      <td>1865400</td>\n",
       "      <td>918583</td>\n",
       "      <td>2015-04-28 12:00:00</td>\n",
       "      <td>125</td>\n",
       "      <td>240</td>\n",
       "    </tr>\n",
       "    <tr>\n",
       "      <th>1281</th>\n",
       "      <td>A010</td>\n",
       "      <td>R080</td>\n",
       "      <td>00-00-04</td>\n",
       "      <td>57 ST-7 AVE</td>\n",
       "      <td>NQR</td>\n",
       "      <td>BMT</td>\n",
       "      <td>04/28/2015</td>\n",
       "      <td>12:00:00</td>\n",
       "      <td>RECOVR AUD</td>\n",
       "      <td>2550498</td>\n",
       "      <td>1228635</td>\n",
       "      <td>2015-04-28 12:00:00</td>\n",
       "      <td>118</td>\n",
       "      <td>249</td>\n",
       "    </tr>\n",
       "  </tbody>\n",
       "</table>\n",
       "</div>"
      ],
      "text/plain": [
       "       C/A  UNIT       SCP      STATION LINENAME DIVISION        DATE  \\\n",
       "1113  A010  R080  00-00-00  57 ST-7 AVE      NQR      BMT  04/28/2015   \n",
       "1155  A010  R080  00-00-01  57 ST-7 AVE      NQR      BMT  04/28/2015   \n",
       "1197  A010  R080  00-00-02  57 ST-7 AVE      NQR      BMT  04/28/2015   \n",
       "1239  A010  R080  00-00-03  57 ST-7 AVE      NQR      BMT  04/28/2015   \n",
       "1281  A010  R080  00-00-04  57 ST-7 AVE      NQR      BMT  04/28/2015   \n",
       "\n",
       "          TIME        DESC   ENTRIES    EXITS            DATETIME  \\\n",
       "1113  12:00:00  RECOVR AUD    143112    85613 2015-04-28 12:00:00   \n",
       "1155  12:00:00  RECOVR AUD  12250490  4537590 2015-04-28 12:00:00   \n",
       "1197  12:00:00  RECOVR AUD   8936510  3456835 2015-04-28 12:00:00   \n",
       "1239  12:00:00  RECOVR AUD   1865400   918583 2015-04-28 12:00:00   \n",
       "1281  12:00:00  RECOVR AUD   2550498  1228635 2015-04-28 12:00:00   \n",
       "\n",
       "      ENTRIES_DIFF  EXITS_DIFF  \n",
       "1113           368         589  \n",
       "1155           220         409  \n",
       "1197           180         307  \n",
       "1239           125         240  \n",
       "1281           118         249  "
      ]
     },
     "execution_count": 7,
     "metadata": {},
     "output_type": "execute_result"
    }
   ],
   "source": [
    "data[data.DESC != 'REGULAR'].head()"
   ]
  },
  {
   "cell_type": "code",
   "execution_count": 8,
   "metadata": {
    "collapsed": false
   },
   "outputs": [
    {
     "name": "stdout",
     "output_type": "stream",
     "text": [
      "the number of NaN entries should equal the total unique turnstiles.\n",
      "4568 4568\n"
     ]
    }
   ],
   "source": [
    "# sanity check for getting the differences:\n",
    "nan_entries = len(data[data.ENTRIES_DIFF.isnull()])\n",
    "total_unique_turnstiles = len(turnstile_groupby)\n",
    "print 'the number of NaN entries should equal the total unique turnstiles.'\n",
    "print nan_entries, total_unique_turnstiles\n",
    "\n",
    "assert nan_entries == total_unique_turnstiles"
   ]
  },
  {
   "cell_type": "markdown",
   "metadata": {},
   "source": [
    "## TODO\n",
    "* Remove stations with negative ENTRIES_DIFF's\n"
   ]
  },
  {
   "cell_type": "code",
   "execution_count": 9,
   "metadata": {
    "collapsed": false
   },
   "outputs": [
    {
     "name": "stdout",
     "output_type": "stream",
     "text": [
      "negative entries:\n",
      "6496\n",
      "11064\n",
      "6496\n"
     ]
    }
   ],
   "source": [
    "print 'negative entries:'\n",
    "print len(data[(data.ENTRIES_DIFF < 0)])\n",
    "\n",
    "# if you count NaN's\n",
    "print len(data[~(data.ENTRIES_DIFF >= 0)])\n",
    "# if you drop the NaN's first\n",
    "print len(data.dropna()[~(data.dropna().ENTRIES_DIFF >= 0)])"
   ]
  },
  {
   "cell_type": "markdown",
   "metadata": {},
   "source": [
    "## Next, get the total station counts\n",
    "To do this, groupby station and datetime, and sum the diffs across turnstiles"
   ]
  },
  {
   "cell_type": "code",
   "execution_count": 10,
   "metadata": {
    "collapsed": false
   },
   "outputs": [
    {
     "data": {
      "text/html": [
       "<div>\n",
       "<table border=\"1\" class=\"dataframe\">\n",
       "  <thead>\n",
       "    <tr style=\"text-align: right;\">\n",
       "      <th></th>\n",
       "      <th>STATION</th>\n",
       "      <th>DATETIME</th>\n",
       "      <th>DATE</th>\n",
       "      <th>TIME</th>\n",
       "      <th>ENTRIES</th>\n",
       "      <th>EXITS</th>\n",
       "    </tr>\n",
       "  </thead>\n",
       "  <tbody>\n",
       "    <tr>\n",
       "      <th>0</th>\n",
       "      <td>1 AVE</td>\n",
       "      <td>2015-04-25 00:00:00</td>\n",
       "      <td>04/25/2015</td>\n",
       "      <td>00:00:00</td>\n",
       "      <td>NaN</td>\n",
       "      <td>NaN</td>\n",
       "    </tr>\n",
       "    <tr>\n",
       "      <th>1</th>\n",
       "      <td>1 AVE</td>\n",
       "      <td>2015-04-25 04:00:00</td>\n",
       "      <td>04/25/2015</td>\n",
       "      <td>04:00:00</td>\n",
       "      <td>3</td>\n",
       "      <td>76</td>\n",
       "    </tr>\n",
       "    <tr>\n",
       "      <th>2</th>\n",
       "      <td>1 AVE</td>\n",
       "      <td>2015-04-25 08:00:00</td>\n",
       "      <td>04/25/2015</td>\n",
       "      <td>08:00:00</td>\n",
       "      <td>2</td>\n",
       "      <td>53</td>\n",
       "    </tr>\n",
       "    <tr>\n",
       "      <th>3</th>\n",
       "      <td>1 AVE</td>\n",
       "      <td>2015-04-25 12:00:00</td>\n",
       "      <td>04/25/2015</td>\n",
       "      <td>12:00:00</td>\n",
       "      <td>2</td>\n",
       "      <td>54</td>\n",
       "    </tr>\n",
       "    <tr>\n",
       "      <th>4</th>\n",
       "      <td>1 AVE</td>\n",
       "      <td>2015-04-25 16:00:00</td>\n",
       "      <td>04/25/2015</td>\n",
       "      <td>16:00:00</td>\n",
       "      <td>4</td>\n",
       "      <td>57</td>\n",
       "    </tr>\n",
       "  </tbody>\n",
       "</table>\n",
       "</div>"
      ],
      "text/plain": [
       "  STATION            DATETIME        DATE      TIME  ENTRIES  EXITS\n",
       "0   1 AVE 2015-04-25 00:00:00  04/25/2015  00:00:00      NaN    NaN\n",
       "1   1 AVE 2015-04-25 04:00:00  04/25/2015  04:00:00        3     76\n",
       "2   1 AVE 2015-04-25 08:00:00  04/25/2015  08:00:00        2     53\n",
       "3   1 AVE 2015-04-25 12:00:00  04/25/2015  12:00:00        2     54\n",
       "4   1 AVE 2015-04-25 16:00:00  04/25/2015  16:00:00        4     57"
      ]
     },
     "execution_count": 10,
     "metadata": {},
     "output_type": "execute_result"
    }
   ],
   "source": [
    "# group by station name and datetime,\n",
    "station_time_groupby = data.groupby(['STATION','DATETIME','DATE','TIME'], as_index=False)\n",
    "\n",
    "station_period_totals = station_time_groupby[['ENTRIES_DIFF', 'EXITS_DIFF']].sum()\n",
    "\n",
    "def remove_suffix(col_name):\n",
    "    first_underscore = col_name.find('_')\n",
    "    if first_underscore != -1:\n",
    "        return col_name[:first_underscore]\n",
    "    return col_name\n",
    "\n",
    "# rename the columns, dropping everything after and including the first underscore\n",
    "station_period_totals.columns = [remove_suffix(column) for column in station_period_totals.columns]\n",
    "\n",
    "# drop NaN\n",
    "# station_period_totals.dropna(inplace=True)\n",
    "station_period_totals.head()"
   ]
  },
  {
   "cell_type": "markdown",
   "metadata": {
    "collapsed": true
   },
   "source": [
    "## Try it Zhanna's way and see if you get the same result"
   ]
  },
  {
   "cell_type": "code",
   "execution_count": 11,
   "metadata": {
    "collapsed": false
   },
   "outputs": [
    {
     "data": {
      "text/html": [
       "<div>\n",
       "<table border=\"1\" class=\"dataframe\">\n",
       "  <thead>\n",
       "    <tr style=\"text-align: right;\">\n",
       "      <th></th>\n",
       "      <th></th>\n",
       "      <th>ENTRIES</th>\n",
       "      <th>EXITS</th>\n",
       "    </tr>\n",
       "    <tr>\n",
       "      <th>STATION</th>\n",
       "      <th>DATETIME</th>\n",
       "      <th></th>\n",
       "      <th></th>\n",
       "    </tr>\n",
       "  </thead>\n",
       "  <tbody>\n",
       "    <tr>\n",
       "      <th rowspan=\"5\" valign=\"top\">1 AVE</th>\n",
       "      <th>2015-04-25 00:00:00</th>\n",
       "      <td>464288477</td>\n",
       "      <td>478501789</td>\n",
       "    </tr>\n",
       "    <tr>\n",
       "      <th>2015-04-25 04:00:00</th>\n",
       "      <td>464288480</td>\n",
       "      <td>478501865</td>\n",
       "    </tr>\n",
       "    <tr>\n",
       "      <th>2015-04-25 08:00:00</th>\n",
       "      <td>464288482</td>\n",
       "      <td>478501918</td>\n",
       "    </tr>\n",
       "    <tr>\n",
       "      <th>2015-04-25 12:00:00</th>\n",
       "      <td>464288484</td>\n",
       "      <td>478501972</td>\n",
       "    </tr>\n",
       "    <tr>\n",
       "      <th>2015-04-25 16:00:00</th>\n",
       "      <td>464288488</td>\n",
       "      <td>478502029</td>\n",
       "    </tr>\n",
       "  </tbody>\n",
       "</table>\n",
       "</div>"
      ],
      "text/plain": [
       "                               ENTRIES      EXITS\n",
       "STATION DATETIME                                 \n",
       "1 AVE   2015-04-25 00:00:00  464288477  478501789\n",
       "        2015-04-25 04:00:00  464288480  478501865\n",
       "        2015-04-25 08:00:00  464288482  478501918\n",
       "        2015-04-25 12:00:00  464288484  478501972\n",
       "        2015-04-25 16:00:00  464288488  478502029"
      ]
     },
     "execution_count": 11,
     "metadata": {},
     "output_type": "execute_result"
    }
   ],
   "source": [
    "# Zhanna: you could also group by station and datetime, sum the entries & exits, then do the diff.\n",
    "# Use level=0 for MultiIndex on station.\n",
    "# Since you aren't using turnstile-level data in the analysis, sum them and find the diffs to get the same result!\n",
    "\n",
    "zhanna_station_groupby = data.drop(['ENTRIES_DIFF','EXITS_DIFF'], axis=1).groupby(['STATION','DATETIME'])\n",
    "# summed cumulative entries and exits, per station\n",
    "zhanna_station_groupby.sum().head()"
   ]
  },
  {
   "cell_type": "code",
   "execution_count": 12,
   "metadata": {
    "collapsed": false
   },
   "outputs": [
    {
     "data": {
      "text/html": [
       "<div>\n",
       "<table border=\"1\" class=\"dataframe\">\n",
       "  <thead>\n",
       "    <tr style=\"text-align: right;\">\n",
       "      <th></th>\n",
       "      <th>STATION</th>\n",
       "      <th>DATETIME</th>\n",
       "      <th>ENTRIES</th>\n",
       "      <th>EXITS</th>\n",
       "    </tr>\n",
       "  </thead>\n",
       "  <tbody>\n",
       "    <tr>\n",
       "      <th>0</th>\n",
       "      <td>1 AVE</td>\n",
       "      <td>2015-04-25 00:00:00</td>\n",
       "      <td>NaN</td>\n",
       "      <td>NaN</td>\n",
       "    </tr>\n",
       "    <tr>\n",
       "      <th>1</th>\n",
       "      <td>1 AVE</td>\n",
       "      <td>2015-04-25 04:00:00</td>\n",
       "      <td>3</td>\n",
       "      <td>76</td>\n",
       "    </tr>\n",
       "    <tr>\n",
       "      <th>2</th>\n",
       "      <td>1 AVE</td>\n",
       "      <td>2015-04-25 08:00:00</td>\n",
       "      <td>2</td>\n",
       "      <td>53</td>\n",
       "    </tr>\n",
       "    <tr>\n",
       "      <th>3</th>\n",
       "      <td>1 AVE</td>\n",
       "      <td>2015-04-25 12:00:00</td>\n",
       "      <td>2</td>\n",
       "      <td>54</td>\n",
       "    </tr>\n",
       "    <tr>\n",
       "      <th>4</th>\n",
       "      <td>1 AVE</td>\n",
       "      <td>2015-04-25 16:00:00</td>\n",
       "      <td>4</td>\n",
       "      <td>57</td>\n",
       "    </tr>\n",
       "  </tbody>\n",
       "</table>\n",
       "</div>"
      ],
      "text/plain": [
       "  STATION            DATETIME  ENTRIES  EXITS\n",
       "0   1 AVE 2015-04-25 00:00:00      NaN    NaN\n",
       "1   1 AVE 2015-04-25 04:00:00        3     76\n",
       "2   1 AVE 2015-04-25 08:00:00        2     53\n",
       "3   1 AVE 2015-04-25 12:00:00        2     54\n",
       "4   1 AVE 2015-04-25 16:00:00        4     57"
      ]
     },
     "execution_count": 12,
     "metadata": {},
     "output_type": "execute_result"
    }
   ],
   "source": [
    "# diff of summed cumulative entries\n",
    "zhanna_station_counts_timeblock = zhanna_station_groupby.sum().diff()\n",
    "zhanna_station_counts_timeblock.reset_index(inplace=True)\n",
    "# zhanna_station_counts_timeblock.dropna(inplace=True)\n",
    "zhanna_station_counts_timeblock.head()"
   ]
  },
  {
   "cell_type": "code",
   "execution_count": 13,
   "metadata": {
    "collapsed": false
   },
   "outputs": [
    {
     "data": {
      "text/plain": [
       "0"
      ]
     },
     "execution_count": 13,
     "metadata": {},
     "output_type": "execute_result"
    }
   ],
   "source": [
    "# these 675 are a difference in NaN rows which were dropped -- ie when I uncommented the .dropna lines above, \n",
    "# the difference in len was 675\n",
    "\n",
    "len(zhanna_station_counts_timeblock['ENTRIES']) - len(station_period_totals['ENTRIES'])"
   ]
  },
  {
   "cell_type": "code",
   "execution_count": 14,
   "metadata": {
    "collapsed": false
   },
   "outputs": [
    {
     "name": "stdout",
     "output_type": "stream",
     "text": [
      "169371 169371\n"
     ]
    },
    {
     "data": {
      "text/html": [
       "<div>\n",
       "<table border=\"1\" class=\"dataframe\">\n",
       "  <thead>\n",
       "    <tr style=\"text-align: right;\">\n",
       "      <th></th>\n",
       "      <th>STATION</th>\n",
       "      <th>DATETIME</th>\n",
       "      <th>ENTRIES_ZH</th>\n",
       "      <th>ENTRIES</th>\n",
       "    </tr>\n",
       "  </thead>\n",
       "  <tbody>\n",
       "    <tr>\n",
       "      <th>0</th>\n",
       "      <td>1 AVE</td>\n",
       "      <td>2015-04-25 00:00:00</td>\n",
       "      <td>NaN</td>\n",
       "      <td>NaN</td>\n",
       "    </tr>\n",
       "    <tr>\n",
       "      <th>1</th>\n",
       "      <td>1 AVE</td>\n",
       "      <td>2015-04-25 04:00:00</td>\n",
       "      <td>3</td>\n",
       "      <td>3</td>\n",
       "    </tr>\n",
       "    <tr>\n",
       "      <th>2</th>\n",
       "      <td>1 AVE</td>\n",
       "      <td>2015-04-25 08:00:00</td>\n",
       "      <td>2</td>\n",
       "      <td>2</td>\n",
       "    </tr>\n",
       "    <tr>\n",
       "      <th>3</th>\n",
       "      <td>1 AVE</td>\n",
       "      <td>2015-04-25 12:00:00</td>\n",
       "      <td>2</td>\n",
       "      <td>2</td>\n",
       "    </tr>\n",
       "    <tr>\n",
       "      <th>4</th>\n",
       "      <td>1 AVE</td>\n",
       "      <td>2015-04-25 16:00:00</td>\n",
       "      <td>4</td>\n",
       "      <td>4</td>\n",
       "    </tr>\n",
       "  </tbody>\n",
       "</table>\n",
       "</div>"
      ],
      "text/plain": [
       "  STATION            DATETIME  ENTRIES_ZH  ENTRIES\n",
       "0   1 AVE 2015-04-25 00:00:00         NaN      NaN\n",
       "1   1 AVE 2015-04-25 04:00:00           3        3\n",
       "2   1 AVE 2015-04-25 08:00:00           2        2\n",
       "3   1 AVE 2015-04-25 12:00:00           2        2\n",
       "4   1 AVE 2015-04-25 16:00:00           4        4"
      ]
     },
     "execution_count": 14,
     "metadata": {},
     "output_type": "execute_result"
    }
   ],
   "source": [
    "zhanna_diff_df = pd.concat([\n",
    "    zhanna_station_counts_timeblock.drop('EXITS', axis=1).rename(columns={'ENTRIES':'ENTRIES_ZH'}), \n",
    "    station_period_totals.ENTRIES], axis=1)\n",
    "print len(zhanna_diff_df), len(station_period_totals)\n",
    "assert len(zhanna_diff_df) == len(station_period_totals)\n",
    "zhanna_diff_df.head()"
   ]
  },
  {
   "cell_type": "code",
   "execution_count": 15,
   "metadata": {
    "collapsed": false
   },
   "outputs": [
    {
     "data": {
      "text/html": [
       "<div>\n",
       "<table border=\"1\" class=\"dataframe\">\n",
       "  <thead>\n",
       "    <tr style=\"text-align: right;\">\n",
       "      <th></th>\n",
       "      <th>STATION</th>\n",
       "      <th>DATETIME</th>\n",
       "      <th>ENTRIES_ZH</th>\n",
       "      <th>ENTRIES</th>\n",
       "    </tr>\n",
       "  </thead>\n",
       "  <tbody>\n",
       "    <tr>\n",
       "      <th>0</th>\n",
       "      <td>1 AVE</td>\n",
       "      <td>2015-04-25 00:00:00</td>\n",
       "      <td>NaN</td>\n",
       "      <td>NaN</td>\n",
       "    </tr>\n",
       "    <tr>\n",
       "      <th>38</th>\n",
       "      <td>1 AVE</td>\n",
       "      <td>2015-05-01 07:40:54</td>\n",
       "      <td>-438449378</td>\n",
       "      <td>349</td>\n",
       "    </tr>\n",
       "    <tr>\n",
       "      <th>39</th>\n",
       "      <td>1 AVE</td>\n",
       "      <td>2015-05-01 08:00:00</td>\n",
       "      <td>438451251</td>\n",
       "      <td>1524</td>\n",
       "    </tr>\n",
       "    <tr>\n",
       "      <th>57</th>\n",
       "      <td>1 AVE</td>\n",
       "      <td>2015-05-04 07:41:40</td>\n",
       "      <td>-25941191</td>\n",
       "      <td>1059</td>\n",
       "    </tr>\n",
       "    <tr>\n",
       "      <th>58</th>\n",
       "      <td>1 AVE</td>\n",
       "      <td>2015-05-04 08:00:00</td>\n",
       "      <td>25943055</td>\n",
       "      <td>805</td>\n",
       "    </tr>\n",
       "  </tbody>\n",
       "</table>\n",
       "</div>"
      ],
      "text/plain": [
       "   STATION            DATETIME  ENTRIES_ZH  ENTRIES\n",
       "0    1 AVE 2015-04-25 00:00:00         NaN      NaN\n",
       "38   1 AVE 2015-05-01 07:40:54  -438449378      349\n",
       "39   1 AVE 2015-05-01 08:00:00   438451251     1524\n",
       "57   1 AVE 2015-05-04 07:41:40   -25941191     1059\n",
       "58   1 AVE 2015-05-04 08:00:00    25943055      805"
      ]
     },
     "execution_count": 15,
     "metadata": {},
     "output_type": "execute_result"
    }
   ],
   "source": [
    "zhanna_diff_df[zhanna_diff_df.ENTRIES != zhanna_diff_df.ENTRIES_ZH].head()"
   ]
  },
  {
   "cell_type": "code",
   "execution_count": 16,
   "metadata": {
    "collapsed": false
   },
   "outputs": [
    {
     "data": {
      "text/html": [
       "<div>\n",
       "<table border=\"1\" class=\"dataframe\">\n",
       "  <thead>\n",
       "    <tr style=\"text-align: right;\">\n",
       "      <th></th>\n",
       "      <th>ENTRIES_ZH</th>\n",
       "      <th>ENTRIES</th>\n",
       "    </tr>\n",
       "  </thead>\n",
       "  <tbody>\n",
       "    <tr>\n",
       "      <th>count</th>\n",
       "      <td>1.693700e+05</td>\n",
       "      <td>1.686880e+05</td>\n",
       "    </tr>\n",
       "    <tr>\n",
       "      <th>mean</th>\n",
       "      <td>-2.428043e+03</td>\n",
       "      <td>4.903472e+04</td>\n",
       "    </tr>\n",
       "    <tr>\n",
       "      <th>std</th>\n",
       "      <td>6.290768e+08</td>\n",
       "      <td>8.730329e+06</td>\n",
       "    </tr>\n",
       "    <tr>\n",
       "      <th>min</th>\n",
       "      <td>-7.453718e+09</td>\n",
       "      <td>-1.403804e+09</td>\n",
       "    </tr>\n",
       "    <tr>\n",
       "      <th>25%</th>\n",
       "      <td>-1.326000e+03</td>\n",
       "      <td>4.400000e+01</td>\n",
       "    </tr>\n",
       "    <tr>\n",
       "      <th>50%</th>\n",
       "      <td>8.240000e+02</td>\n",
       "      <td>3.080000e+02</td>\n",
       "    </tr>\n",
       "    <tr>\n",
       "      <th>75%</th>\n",
       "      <td>1.165025e+04</td>\n",
       "      <td>1.269000e+03</td>\n",
       "    </tr>\n",
       "    <tr>\n",
       "      <th>max</th>\n",
       "      <td>7.453700e+09</td>\n",
       "      <td>1.941365e+09</td>\n",
       "    </tr>\n",
       "  </tbody>\n",
       "</table>\n",
       "</div>"
      ],
      "text/plain": [
       "         ENTRIES_ZH       ENTRIES\n",
       "count  1.693700e+05  1.686880e+05\n",
       "mean  -2.428043e+03  4.903472e+04\n",
       "std    6.290768e+08  8.730329e+06\n",
       "min   -7.453718e+09 -1.403804e+09\n",
       "25%   -1.326000e+03  4.400000e+01\n",
       "50%    8.240000e+02  3.080000e+02\n",
       "75%    1.165025e+04  1.269000e+03\n",
       "max    7.453700e+09  1.941365e+09"
      ]
     },
     "execution_count": 16,
     "metadata": {},
     "output_type": "execute_result"
    }
   ],
   "source": [
    "zhanna_diff_df.describe()"
   ]
  },
  {
   "cell_type": "code",
   "execution_count": 17,
   "metadata": {
    "collapsed": false
   },
   "outputs": [
    {
     "name": "stdout",
     "output_type": "stream",
     "text": [
      "Negative ENTRIES with zhanna groupby.diff vs my transform(pd.Series.diff)\n",
      "43088\n",
      "77\n"
     ]
    }
   ],
   "source": [
    "print 'Negative ENTRIES with zhanna groupby.diff vs my transform(pd.Series.diff)'\n",
    "print len(zhanna_diff_df[zhanna_diff_df.ENTRIES_ZH < 0])\n",
    "print len(zhanna_diff_df[zhanna_diff_df.ENTRIES < 0])"
   ]
  },
  {
   "cell_type": "markdown",
   "metadata": {},
   "source": [
    "## --> RESULTS of `diff` methods comparison\n",
    "The \"zhanna way\" has less NaN's, and it looks like those NaN's are replaced with many, many big negative numbers. \n",
    "Maybe this is due to a buggy behavior in `groupby.diff` ???\n",
    "\n",
    "Or maybe it's because of non-REGULAR entries?\n",
    "\n",
    "I still don't understand it, but I think mine is safer...\n",
    "\n"
   ]
  },
  {
   "cell_type": "markdown",
   "metadata": {},
   "source": [
    "## Clean up: Remove NaN's and negative ENTRIES from station_period_totals"
   ]
  },
  {
   "cell_type": "code",
   "execution_count": 18,
   "metadata": {
    "collapsed": false
   },
   "outputs": [
    {
     "name": "stdout",
     "output_type": "stream",
     "text": [
      "got rid of 760 rows\n"
     ]
    }
   ],
   "source": [
    "pre_cleanup_len = len(station_period_totals)\n",
    "\n",
    "station_period_totals = station_period_totals[station_period_totals.ENTRIES >= 0]\n",
    "\n",
    "print 'got rid of %i rows' % (pre_cleanup_len - len(station_period_totals))"
   ]
  },
  {
   "cell_type": "markdown",
   "metadata": {},
   "source": [
    "## Clean up: Round down (floor) the datetimes to the nearest 4th hour\n",
    "\n",
    "Also, drop TIME so you don't use it accidentally"
   ]
  },
  {
   "cell_type": "code",
   "execution_count": 19,
   "metadata": {
    "collapsed": false
   },
   "outputs": [],
   "source": [
    "# station_period_totals['DATETIME'] = station_period_totals['DATETIME'].apply(\n",
    "#     lambda dt: datetime(dt.year, dt.month, dt.day,4*(dt.hour//4)))\n",
    "\n",
    "# station_period_totals.drop('TIME', axis=1, inplace=True)\n",
    "\n",
    "# print station_period_totals.DATETIME.unique()[:20]\n",
    "# station_period_totals.head()"
   ]
  },
  {
   "cell_type": "markdown",
   "metadata": {},
   "source": [
    "## Daily totals per station"
   ]
  },
  {
   "cell_type": "code",
   "execution_count": 20,
   "metadata": {
    "collapsed": false
   },
   "outputs": [
    {
     "data": {
      "text/html": [
       "<div>\n",
       "<table border=\"1\" class=\"dataframe\">\n",
       "  <thead>\n",
       "    <tr style=\"text-align: right;\">\n",
       "      <th></th>\n",
       "      <th>STATION</th>\n",
       "      <th>DATE</th>\n",
       "      <th>ENTRIES</th>\n",
       "      <th>EXITS</th>\n",
       "    </tr>\n",
       "  </thead>\n",
       "  <tbody>\n",
       "    <tr>\n",
       "      <th>0</th>\n",
       "      <td>1 AVE</td>\n",
       "      <td>04/25/2015</td>\n",
       "      <td>11</td>\n",
       "      <td>281</td>\n",
       "    </tr>\n",
       "    <tr>\n",
       "      <th>1</th>\n",
       "      <td>1 AVE</td>\n",
       "      <td>04/26/2015</td>\n",
       "      <td>11</td>\n",
       "      <td>294</td>\n",
       "    </tr>\n",
       "    <tr>\n",
       "      <th>2</th>\n",
       "      <td>1 AVE</td>\n",
       "      <td>04/27/2015</td>\n",
       "      <td>19127</td>\n",
       "      <td>20131</td>\n",
       "    </tr>\n",
       "    <tr>\n",
       "      <th>3</th>\n",
       "      <td>1 AVE</td>\n",
       "      <td>04/28/2015</td>\n",
       "      <td>22576</td>\n",
       "      <td>23697</td>\n",
       "    </tr>\n",
       "    <tr>\n",
       "      <th>4</th>\n",
       "      <td>1 AVE</td>\n",
       "      <td>04/29/2015</td>\n",
       "      <td>23716</td>\n",
       "      <td>23699</td>\n",
       "    </tr>\n",
       "  </tbody>\n",
       "</table>\n",
       "</div>"
      ],
      "text/plain": [
       "  STATION        DATE  ENTRIES  EXITS\n",
       "0   1 AVE  04/25/2015       11    281\n",
       "1   1 AVE  04/26/2015       11    294\n",
       "2   1 AVE  04/27/2015    19127  20131\n",
       "3   1 AVE  04/28/2015    22576  23697\n",
       "4   1 AVE  04/29/2015    23716  23699"
      ]
     },
     "execution_count": 20,
     "metadata": {},
     "output_type": "execute_result"
    }
   ],
   "source": [
    "daily_station_totals = station_period_totals.drop('DATETIME', axis=1).groupby(['STATION','DATE'], as_index=False).sum()\n",
    "daily_station_totals.head()"
   ]
  },
  {
   "cell_type": "code",
   "execution_count": 21,
   "metadata": {
    "collapsed": false
   },
   "outputs": [
    {
     "data": {
      "text/html": [
       "<div>\n",
       "<table border=\"1\" class=\"dataframe\">\n",
       "  <thead>\n",
       "    <tr style=\"text-align: right;\">\n",
       "      <th></th>\n",
       "      <th>STATION</th>\n",
       "      <th>DATE</th>\n",
       "      <th>ENTRIES</th>\n",
       "      <th>EXITS</th>\n",
       "    </tr>\n",
       "  </thead>\n",
       "  <tbody>\n",
       "    <tr>\n",
       "      <th>2828</th>\n",
       "      <td>34 ST-PENN STA</td>\n",
       "      <td>05/17/2015</td>\n",
       "      <td>83294</td>\n",
       "      <td>73451</td>\n",
       "    </tr>\n",
       "    <tr>\n",
       "      <th>778</th>\n",
       "      <td>14 ST-UNION SQ</td>\n",
       "      <td>05/17/2015</td>\n",
       "      <td>65589</td>\n",
       "      <td>60749</td>\n",
       "    </tr>\n",
       "    <tr>\n",
       "      <th>4755</th>\n",
       "      <td>86 ST</td>\n",
       "      <td>05/17/2015</td>\n",
       "      <td>63876</td>\n",
       "      <td>57177</td>\n",
       "    </tr>\n",
       "    <tr>\n",
       "      <th>3122</th>\n",
       "      <td>42 ST-TIMES SQ</td>\n",
       "      <td>05/17/2015</td>\n",
       "      <td>63049</td>\n",
       "      <td>57912</td>\n",
       "    </tr>\n",
       "    <tr>\n",
       "      <th>2786</th>\n",
       "      <td>34 ST-HERALD SQ</td>\n",
       "      <td>05/17/2015</td>\n",
       "      <td>58728</td>\n",
       "      <td>56489</td>\n",
       "    </tr>\n",
       "    <tr>\n",
       "      <th>3080</th>\n",
       "      <td>42 ST-PA BUS TE</td>\n",
       "      <td>05/17/2015</td>\n",
       "      <td>58407</td>\n",
       "      <td>49753</td>\n",
       "    </tr>\n",
       "    <tr>\n",
       "      <th>3038</th>\n",
       "      <td>42 ST-GRD CNTRL</td>\n",
       "      <td>05/17/2015</td>\n",
       "      <td>50249</td>\n",
       "      <td>50372</td>\n",
       "    </tr>\n",
       "    <tr>\n",
       "      <th>3836</th>\n",
       "      <td>59 ST-COLUMBUS</td>\n",
       "      <td>05/17/2015</td>\n",
       "      <td>48829</td>\n",
       "      <td>39594</td>\n",
       "    </tr>\n",
       "    <tr>\n",
       "      <th>7356</th>\n",
       "      <td>CANAL ST</td>\n",
       "      <td>05/17/2015</td>\n",
       "      <td>45710</td>\n",
       "      <td>36979</td>\n",
       "    </tr>\n",
       "    <tr>\n",
       "      <th>484</th>\n",
       "      <td>125 ST</td>\n",
       "      <td>05/17/2015</td>\n",
       "      <td>44583</td>\n",
       "      <td>45445</td>\n",
       "    </tr>\n",
       "  </tbody>\n",
       "</table>\n",
       "</div>"
      ],
      "text/plain": [
       "              STATION        DATE  ENTRIES  EXITS\n",
       "2828   34 ST-PENN STA  05/17/2015    83294  73451\n",
       "778    14 ST-UNION SQ  05/17/2015    65589  60749\n",
       "4755            86 ST  05/17/2015    63876  57177\n",
       "3122   42 ST-TIMES SQ  05/17/2015    63049  57912\n",
       "2786  34 ST-HERALD SQ  05/17/2015    58728  56489\n",
       "3080  42 ST-PA BUS TE  05/17/2015    58407  49753\n",
       "3038  42 ST-GRD CNTRL  05/17/2015    50249  50372\n",
       "3836   59 ST-COLUMBUS  05/17/2015    48829  39594\n",
       "7356         CANAL ST  05/17/2015    45710  36979\n",
       "484            125 ST  05/17/2015    44583  45445"
      ]
     },
     "execution_count": 21,
     "metadata": {},
     "output_type": "execute_result"
    }
   ],
   "source": [
    "# find top stations for ENTRIES on date of interest\n",
    "date_of_interest = '05/17/2015' # a Sunday\n",
    "top_daily_entries = daily_station_totals[daily_station_totals['DATE'] == date_of_interest].sort_values(by='ENTRIES', ascending=False).head(10)\n",
    "top_daily_entries"
   ]
  },
  {
   "cell_type": "code",
   "execution_count": 22,
   "metadata": {
    "collapsed": false
   },
   "outputs": [
    {
     "data": {
      "text/plain": [
       "6"
      ]
     },
     "execution_count": 22,
     "metadata": {},
     "output_type": "execute_result"
    }
   ],
   "source": [
    "doi = pd.to_datetime(date_of_interest)\n",
    "doi.dayofweek"
   ]
  },
  {
   "cell_type": "code",
   "execution_count": 23,
   "metadata": {
    "collapsed": false
   },
   "outputs": [
    {
     "name": "stdout",
     "output_type": "stream",
     "text": [
      "check it out, sunday traffic is different\n"
     ]
    },
    {
     "data": {
      "text/plain": [
       "<matplotlib.axes._subplots.AxesSubplot at 0x7f9ac40561d0>"
      ]
     },
     "execution_count": 23,
     "metadata": {},
     "output_type": "execute_result"
    },
    {
     "data": {
      "image/png": "[encoded data removed]",
      "text/plain": [
       "<matplotlib.figure.Figure at 0x7f9ac54adfd0>"
      ]
     },
     "metadata": {},
     "output_type": "display_data"
    }
   ],
   "source": [
    "print 'check it out, sunday traffic is different'\n",
    "\n",
    "# for some reason you have to make ascending=True to make barh in descending order...\n",
    "top_daily_entries.sort_values(by='ENTRIES', ascending=True).plot.barh(x='STATION', \n",
    "    y='ENTRIES', \n",
    "    title='Top 10 stations for subway entries on %s (%s)' % (date_of_interest, days_mapper[pd.to_datetime(date_of_interest).dayofweek]),\n",
    "    color='orchid',\n",
    "    legend=True)"
   ]
  },
  {
   "cell_type": "markdown",
   "metadata": {},
   "source": [
    "# TODO\n",
    "* Do that same graph, but for the month that Lucia did"
   ]
  },
  {
   "cell_type": "code",
   "execution_count": 24,
   "metadata": {
    "collapsed": false
   },
   "outputs": [
    {
     "name": "stdout",
     "output_type": "stream",
     "text": [
      "this is old, bad, no good\n"
     ]
    }
   ],
   "source": [
    "print 'this is old, bad, no good'\n",
    "\n",
    "# fig, ax = plt.subplots(figsize=[15,5])\n",
    "\n",
    "# station_period_totals[station_period_totals['STATION'] == station_of_interest][['DATETIME','ENTRIES']].plot(\n",
    "#     title='Time-period total entries (usually 4-hour blocks) at %s' % station_of_interest,\n",
    "#     x='DATETIME',\n",
    "#     y='ENTRIES',\n",
    "#     legend=False,\n",
    "#     color='orchid',\n",
    "#     rot=90,\n",
    "#     ax=ax)\n",
    "\n",
    "# ax.xaxis.set_major_locator(ticker.MultipleLocator(1))\n",
    "\n",
    "# plt.show()"
   ]
  },
  {
   "cell_type": "markdown",
   "metadata": {},
   "source": [
    "# Set station of interest for the rest of the notebook"
   ]
  },
  {
   "cell_type": "code",
   "execution_count": 89,
   "metadata": {
    "collapsed": false
   },
   "outputs": [],
   "source": [
    "station_of_interest = '86 ST'\n",
    "assert station_of_interest in station_period_totals.STATION.unique()"
   ]
  },
  {
   "cell_type": "markdown",
   "metadata": {},
   "source": [
    "# TODO\n",
    "* Make sure the selected time period is all **REGULAR**"
   ]
  },
  {
   "cell_type": "markdown",
   "metadata": {},
   "source": [
    "## Heatmap, average entries over 2 month period for single station of interest.\n",
    "Time of day x day of week"
   ]
  },
  {
   "cell_type": "code",
   "execution_count": 90,
   "metadata": {
    "collapsed": false
   },
   "outputs": [
    {
     "name": "stdout",
     "output_type": "stream",
     "text": [
      "for 86 ST\n"
     ]
    },
    {
     "data": {
      "text/html": [
       "<div>\n",
       "<table border=\"1\" class=\"dataframe\">\n",
       "  <thead>\n",
       "    <tr style=\"text-align: right;\">\n",
       "      <th></th>\n",
       "      <th>DATE</th>\n",
       "      <th>DATETIME</th>\n",
       "      <th>ENTRIES</th>\n",
       "    </tr>\n",
       "  </thead>\n",
       "  <tbody>\n",
       "    <tr>\n",
       "      <th>34927</th>\n",
       "      <td>04/25/2015</td>\n",
       "      <td>2015-04-25 04:00:00</td>\n",
       "      <td>1834</td>\n",
       "    </tr>\n",
       "    <tr>\n",
       "      <th>34928</th>\n",
       "      <td>04/25/2015</td>\n",
       "      <td>2015-04-25 05:00:00</td>\n",
       "      <td>300</td>\n",
       "    </tr>\n",
       "    <tr>\n",
       "      <th>34929</th>\n",
       "      <td>04/25/2015</td>\n",
       "      <td>2015-04-25 08:00:00</td>\n",
       "      <td>2659</td>\n",
       "    </tr>\n",
       "    <tr>\n",
       "      <th>34930</th>\n",
       "      <td>04/25/2015</td>\n",
       "      <td>2015-04-25 09:00:00</td>\n",
       "      <td>1247</td>\n",
       "    </tr>\n",
       "    <tr>\n",
       "      <th>34931</th>\n",
       "      <td>04/25/2015</td>\n",
       "      <td>2015-04-25 12:00:00</td>\n",
       "      <td>11480</td>\n",
       "    </tr>\n",
       "  </tbody>\n",
       "</table>\n",
       "</div>"
      ],
      "text/plain": [
       "             DATE            DATETIME  ENTRIES\n",
       "34927  04/25/2015 2015-04-25 04:00:00     1834\n",
       "34928  04/25/2015 2015-04-25 05:00:00      300\n",
       "34929  04/25/2015 2015-04-25 08:00:00     2659\n",
       "34930  04/25/2015 2015-04-25 09:00:00     1247\n",
       "34931  04/25/2015 2015-04-25 12:00:00    11480"
      ]
     },
     "execution_count": 90,
     "metadata": {},
     "output_type": "execute_result"
    }
   ],
   "source": [
    "print 'for %s' % station_of_interest\n",
    "station_entries_data = station_period_totals[station_period_totals.STATION == station_of_interest][\n",
    "    ['DATE','DATETIME','ENTRIES']]\n",
    "\n",
    "station_entries_data.head()"
   ]
  },
  {
   "cell_type": "code",
   "execution_count": 91,
   "metadata": {
    "collapsed": false
   },
   "outputs": [],
   "source": [
    "# # station_entries_data['TIME'] = station_entries_data.DATETIME.dt.time\n",
    "# station_pivot = station_entries_data_time.pivot('TIME','DATE','ENTRIES')\n",
    "# station_pivot\n",
    "\n",
    "# # drop NaN's (within threshold). Ideally you would add to the nearest bracket\n",
    "# # station_pivot.dropna(axis=0, inplace=True, thresh=2)\n",
    "# station_pivot"
   ]
  },
  {
   "cell_type": "code",
   "execution_count": 92,
   "metadata": {
    "collapsed": false
   },
   "outputs": [],
   "source": [
    "# print station_of_interest\n",
    "\n",
    "# fig, ax = plt.subplots(figsize=[15,8])\n",
    "# sns.heatmap(station_pivot, ax=ax)"
   ]
  },
  {
   "cell_type": "markdown",
   "metadata": {},
   "source": [
    "## Let's try to separate everything into days of the week"
   ]
  },
  {
   "cell_type": "code",
   "execution_count": 93,
   "metadata": {
    "collapsed": false
   },
   "outputs": [
    {
     "data": {
      "text/html": [
       "<div>\n",
       "<table border=\"1\" class=\"dataframe\">\n",
       "  <thead>\n",
       "    <tr style=\"text-align: right;\">\n",
       "      <th></th>\n",
       "      <th>STATION</th>\n",
       "      <th>DATETIME</th>\n",
       "      <th>DATE</th>\n",
       "      <th>TIME</th>\n",
       "      <th>ENTRIES</th>\n",
       "      <th>EXITS</th>\n",
       "      <th>WEEKDAY</th>\n",
       "    </tr>\n",
       "  </thead>\n",
       "  <tbody>\n",
       "    <tr>\n",
       "      <th>34927</th>\n",
       "      <td>86 ST</td>\n",
       "      <td>2015-04-25 04:00:00</td>\n",
       "      <td>04/25/2015</td>\n",
       "      <td>04:00:00</td>\n",
       "      <td>1834</td>\n",
       "      <td>2641</td>\n",
       "      <td>5</td>\n",
       "    </tr>\n",
       "    <tr>\n",
       "      <th>34928</th>\n",
       "      <td>86 ST</td>\n",
       "      <td>2015-04-25 05:00:00</td>\n",
       "      <td>04/25/2015</td>\n",
       "      <td>05:00:00</td>\n",
       "      <td>300</td>\n",
       "      <td>360</td>\n",
       "      <td>5</td>\n",
       "    </tr>\n",
       "    <tr>\n",
       "      <th>34929</th>\n",
       "      <td>86 ST</td>\n",
       "      <td>2015-04-25 08:00:00</td>\n",
       "      <td>04/25/2015</td>\n",
       "      <td>08:00:00</td>\n",
       "      <td>2659</td>\n",
       "      <td>3685</td>\n",
       "      <td>5</td>\n",
       "    </tr>\n",
       "    <tr>\n",
       "      <th>34930</th>\n",
       "      <td>86 ST</td>\n",
       "      <td>2015-04-25 09:00:00</td>\n",
       "      <td>04/25/2015</td>\n",
       "      <td>09:00:00</td>\n",
       "      <td>1247</td>\n",
       "      <td>1206</td>\n",
       "      <td>5</td>\n",
       "    </tr>\n",
       "    <tr>\n",
       "      <th>34931</th>\n",
       "      <td>86 ST</td>\n",
       "      <td>2015-04-25 12:00:00</td>\n",
       "      <td>04/25/2015</td>\n",
       "      <td>12:00:00</td>\n",
       "      <td>11480</td>\n",
       "      <td>13829</td>\n",
       "      <td>5</td>\n",
       "    </tr>\n",
       "  </tbody>\n",
       "</table>\n",
       "</div>"
      ],
      "text/plain": [
       "      STATION            DATETIME        DATE      TIME  ENTRIES  EXITS  \\\n",
       "34927   86 ST 2015-04-25 04:00:00  04/25/2015  04:00:00     1834   2641   \n",
       "34928   86 ST 2015-04-25 05:00:00  04/25/2015  05:00:00      300    360   \n",
       "34929   86 ST 2015-04-25 08:00:00  04/25/2015  08:00:00     2659   3685   \n",
       "34930   86 ST 2015-04-25 09:00:00  04/25/2015  09:00:00     1247   1206   \n",
       "34931   86 ST 2015-04-25 12:00:00  04/25/2015  12:00:00    11480  13829   \n",
       "\n",
       "       WEEKDAY  \n",
       "34927        5  \n",
       "34928        5  \n",
       "34929        5  \n",
       "34930        5  \n",
       "34931        5  "
      ]
     },
     "execution_count": 93,
     "metadata": {},
     "output_type": "execute_result"
    }
   ],
   "source": [
    "station_day_of_week = station_period_totals[station_period_totals['STATION'] == station_of_interest].copy()\n",
    "\n",
    "station_day_of_week['WEEKDAY'] = station_day_of_week.DATETIME.dt.dayofweek\n",
    "\n",
    "station_day_of_week.sort_values(by='DATETIME', inplace=True)\n",
    "# station_day_of_week.WEEKDAY = station_day_of_week.WEEKDAY.apply(lambda d: days_mapper[d])\n",
    "\n",
    "station_day_of_week.head()"
   ]
  },
  {
   "cell_type": "code",
   "execution_count": 94,
   "metadata": {
    "collapsed": false
   },
   "outputs": [
    {
     "data": {
      "text/html": [
       "<div>\n",
       "<table border=\"1\" class=\"dataframe\">\n",
       "  <thead>\n",
       "    <tr style=\"text-align: right;\">\n",
       "      <th></th>\n",
       "      <th></th>\n",
       "      <th>ENTRIES</th>\n",
       "      <th>EXITS</th>\n",
       "    </tr>\n",
       "    <tr>\n",
       "      <th>WEEKDAY</th>\n",
       "      <th>DATETIME</th>\n",
       "      <th></th>\n",
       "      <th></th>\n",
       "    </tr>\n",
       "  </thead>\n",
       "  <tbody>\n",
       "    <tr>\n",
       "      <th rowspan=\"10\" valign=\"top\">0</th>\n",
       "      <th>00:00:00</th>\n",
       "      <td>6214.500000</td>\n",
       "      <td>5432.166667</td>\n",
       "    </tr>\n",
       "    <tr>\n",
       "      <th>01:00:00</th>\n",
       "      <td>1426.000000</td>\n",
       "      <td>1247.166667</td>\n",
       "    </tr>\n",
       "    <tr>\n",
       "      <th>04:00:00</th>\n",
       "      <td>819.833333</td>\n",
       "      <td>756.166667</td>\n",
       "    </tr>\n",
       "    <tr>\n",
       "      <th>05:00:00</th>\n",
       "      <td>192.833333</td>\n",
       "      <td>150.500000</td>\n",
       "    </tr>\n",
       "    <tr>\n",
       "      <th>08:00:00</th>\n",
       "      <td>8846.333333</td>\n",
       "      <td>6095.000000</td>\n",
       "    </tr>\n",
       "    <tr>\n",
       "      <th>09:00:00</th>\n",
       "      <td>4664.166667</td>\n",
       "      <td>3099.833333</td>\n",
       "    </tr>\n",
       "    <tr>\n",
       "      <th>09:51:14</th>\n",
       "      <td>13178.000000</td>\n",
       "      <td>393.000000</td>\n",
       "    </tr>\n",
       "    <tr>\n",
       "      <th>12:00:00</th>\n",
       "      <td>20837.666667</td>\n",
       "      <td>14172.166667</td>\n",
       "    </tr>\n",
       "    <tr>\n",
       "      <th>13:00:00</th>\n",
       "      <td>4372.833333</td>\n",
       "      <td>3482.166667</td>\n",
       "    </tr>\n",
       "    <tr>\n",
       "      <th>16:00:00</th>\n",
       "      <td>17189.166667</td>\n",
       "      <td>13174.500000</td>\n",
       "    </tr>\n",
       "  </tbody>\n",
       "</table>\n",
       "</div>"
      ],
      "text/plain": [
       "                       ENTRIES         EXITS\n",
       "WEEKDAY DATETIME                            \n",
       "0       00:00:00   6214.500000   5432.166667\n",
       "        01:00:00   1426.000000   1247.166667\n",
       "        04:00:00    819.833333    756.166667\n",
       "        05:00:00    192.833333    150.500000\n",
       "        08:00:00   8846.333333   6095.000000\n",
       "        09:00:00   4664.166667   3099.833333\n",
       "        09:51:14  13178.000000    393.000000\n",
       "        12:00:00  20837.666667  14172.166667\n",
       "        13:00:00   4372.833333   3482.166667\n",
       "        16:00:00  17189.166667  13174.500000"
      ]
     },
     "execution_count": 94,
     "metadata": {},
     "output_type": "execute_result"
    }
   ],
   "source": [
    "station_weekday_avgs = station_day_of_week.groupby(['WEEKDAY',station_day_of_week.DATETIME.dt.time], sort=True).mean()\n",
    "station_weekday_avgs.head(10)"
   ]
  },
  {
   "cell_type": "code",
   "execution_count": 95,
   "metadata": {
    "collapsed": false
   },
   "outputs": [],
   "source": [
    "# weekday_pivot = station_weekday_avgs.reset_index().pivot('TIME','WEEKDAY','ENTRIES')\n",
    "# # integers to English language days\n",
    "# weekday_pivot.columns = [days_mapper[c] for c in weekday_pivot.columns]\n",
    "# weekday_pivot"
   ]
  },
  {
   "cell_type": "code",
   "execution_count": 96,
   "metadata": {
    "collapsed": false
   },
   "outputs": [],
   "source": [
    "# print 'Day of week heatmap for %s: average entries over entire time period' % station_of_interest\n",
    "# fig, ax = plt.subplots(figsize=[15,8])\n",
    "# sns.heatmap(weekday_pivot.dropna(axis=0), ax=ax);"
   ]
  },
  {
   "cell_type": "code",
   "execution_count": 97,
   "metadata": {
    "collapsed": false
   },
   "outputs": [
    {
     "name": "stdout",
     "output_type": "stream",
     "text": [
      "             ENTRIES        EXITS\n",
      "WEEKDAY                          \n",
      "0        8328.452055  6549.917808\n",
      "1        9440.773333  7191.293333\n",
      "2        9292.269231  7128.333333\n",
      "3        9102.115385  7113.871795\n",
      "4        9814.946667  7495.360000\n",
      "5        6337.214286  5347.614286\n",
      "6        5186.194444  4538.888889\n"
     ]
    },
    {
     "data": {
      "image/png": "[encoded data removed]",
      "text/plain": [
       "<matplotlib.figure.Figure at 0x7f9ac0a3f650>"
      ]
     },
     "metadata": {},
     "output_type": "display_data"
    }
   ],
   "source": [
    "fig, ax = plt.subplots(figsize=[15,5])\n",
    "\n",
    "station_weekday_only_avgs = station_day_of_week.groupby(['WEEKDAY'], sort='False').mean()\n",
    "\n",
    "print station_weekday_only_avgs\n",
    "\n",
    "station_weekday_only_avgs.plot(\n",
    "    kind='bar',\n",
    "    title='Time-period total entries (usually 4-hour blocks) at %s' % station_of_interest,\n",
    "#     x=['WEEKDAY','TIME'],\n",
    "    y='ENTRIES',\n",
    "    legend=False,\n",
    "    color='orchid',\n",
    "    rot=0,\n",
    "    ax=ax)\n",
    "\n",
    "# ax.xaxis.set_major_locator(ticker.MultipleLocator(1))\n",
    "\n",
    "plt.show()"
   ]
  },
  {
   "cell_type": "markdown",
   "metadata": {},
   "source": [
    "# Rounding Times (an aside)\n",
    "\n",
    "With a pandas DatetimeIndex, you can do ts.resample(...) to round it\n",
    "\n",
    "??? http://stackoverflow.com/questions/15799162/resampling-within-a-pandas-multiindex\n",
    "\n",
    "I broke this out to this notebook: [Resampling with MultiIndex](./Resampling with MultiIndex.ipynb)"
   ]
  },
  {
   "cell_type": "code",
   "execution_count": 98,
   "metadata": {
    "collapsed": false
   },
   "outputs": [
    {
     "name": "stdout",
     "output_type": "stream",
     "text": [
      "2016-12-25 01:12:34    11\n",
      "2016-12-25 01:12:35    22\n",
      "dtype: int64\n"
     ]
    },
    {
     "data": {
      "text/plain": [
       "2016-12-25    16.5\n",
       "Freq: 4H, dtype: float64"
      ]
     },
     "execution_count": 98,
     "metadata": {},
     "output_type": "execute_result"
    }
   ],
   "source": [
    "def round_nearest_four_hr(ts):\n",
    "    \"\"\"Round the timestamp ts to the nearest 04:00.\n",
    "    ts must be a DatetimeIndex !!!\"\"\"\n",
    "    return ts.resample('4H')\n",
    "    \n",
    "test_ts = pd.Series([11,22], index=[pd.to_datetime('12/25/2016 01:12:34'), pd.to_datetime('12/25/2016 01:12:35')])\n",
    "\n",
    "print test_ts\n",
    "\n",
    "test_ts.resample('4H')"
   ]
  },
  {
   "cell_type": "code",
   "execution_count": 99,
   "metadata": {
    "collapsed": false
   },
   "outputs": [
    {
     "data": {
      "text/plain": [
       "numpy.datetime64('2016-12-24T20:12:35.000000-0500')"
      ]
     },
     "execution_count": 99,
     "metadata": {},
     "output_type": "execute_result"
    }
   ],
   "source": [
    "# convert to numpy datetime64 (an option.. probably not a good one)\n",
    "np.datetime64(pd.to_datetime('12/25/2016 01:12:35'))"
   ]
  },
  {
   "cell_type": "markdown",
   "metadata": {},
   "source": [
    "## Let's try to round the times"
   ]
  },
  {
   "cell_type": "code",
   "execution_count": 100,
   "metadata": {
    "collapsed": false
   },
   "outputs": [
    {
     "data": {
      "text/html": [
       "<div>\n",
       "<table border=\"1\" class=\"dataframe\">\n",
       "  <thead>\n",
       "    <tr style=\"text-align: right;\">\n",
       "      <th></th>\n",
       "      <th>STATION</th>\n",
       "      <th>DATETIME</th>\n",
       "      <th>DATE</th>\n",
       "      <th>TIME</th>\n",
       "      <th>ENTRIES</th>\n",
       "      <th>EXITS</th>\n",
       "    </tr>\n",
       "  </thead>\n",
       "  <tbody>\n",
       "    <tr>\n",
       "      <th>1</th>\n",
       "      <td>1 AVE</td>\n",
       "      <td>2015-04-25 04:00:00</td>\n",
       "      <td>04/25/2015</td>\n",
       "      <td>04:00:00</td>\n",
       "      <td>3</td>\n",
       "      <td>76</td>\n",
       "    </tr>\n",
       "    <tr>\n",
       "      <th>2</th>\n",
       "      <td>1 AVE</td>\n",
       "      <td>2015-04-25 08:00:00</td>\n",
       "      <td>04/25/2015</td>\n",
       "      <td>08:00:00</td>\n",
       "      <td>2</td>\n",
       "      <td>53</td>\n",
       "    </tr>\n",
       "    <tr>\n",
       "      <th>3</th>\n",
       "      <td>1 AVE</td>\n",
       "      <td>2015-04-25 12:00:00</td>\n",
       "      <td>04/25/2015</td>\n",
       "      <td>12:00:00</td>\n",
       "      <td>2</td>\n",
       "      <td>54</td>\n",
       "    </tr>\n",
       "    <tr>\n",
       "      <th>4</th>\n",
       "      <td>1 AVE</td>\n",
       "      <td>2015-04-25 16:00:00</td>\n",
       "      <td>04/25/2015</td>\n",
       "      <td>16:00:00</td>\n",
       "      <td>4</td>\n",
       "      <td>57</td>\n",
       "    </tr>\n",
       "    <tr>\n",
       "      <th>5</th>\n",
       "      <td>1 AVE</td>\n",
       "      <td>2015-04-25 20:00:00</td>\n",
       "      <td>04/25/2015</td>\n",
       "      <td>20:00:00</td>\n",
       "      <td>0</td>\n",
       "      <td>41</td>\n",
       "    </tr>\n",
       "  </tbody>\n",
       "</table>\n",
       "</div>"
      ],
      "text/plain": [
       "  STATION            DATETIME        DATE      TIME  ENTRIES  EXITS\n",
       "1   1 AVE 2015-04-25 04:00:00  04/25/2015  04:00:00        3     76\n",
       "2   1 AVE 2015-04-25 08:00:00  04/25/2015  08:00:00        2     53\n",
       "3   1 AVE 2015-04-25 12:00:00  04/25/2015  12:00:00        2     54\n",
       "4   1 AVE 2015-04-25 16:00:00  04/25/2015  16:00:00        4     57\n",
       "5   1 AVE 2015-04-25 20:00:00  04/25/2015  20:00:00        0     41"
      ]
     },
     "execution_count": 100,
     "metadata": {},
     "output_type": "execute_result"
    }
   ],
   "source": [
    "station_period_totals.head()"
   ]
  },
  {
   "cell_type": "code",
   "execution_count": 101,
   "metadata": {
    "collapsed": false
   },
   "outputs": [
    {
     "name": "stdout",
     "output_type": "stream",
     "text": [
      "168611 96223\n",
      "86 ST\n",
      "len before rounding:\n",
      "521\n",
      "len after rounding:\n",
      "251\n"
     ]
    },
    {
     "data": {
      "text/html": [
       "<div>\n",
       "<table border=\"1\" class=\"dataframe\">\n",
       "  <thead>\n",
       "    <tr style=\"text-align: right;\">\n",
       "      <th></th>\n",
       "      <th></th>\n",
       "      <th>ENTRIES</th>\n",
       "      <th>EXITS</th>\n",
       "    </tr>\n",
       "    <tr>\n",
       "      <th>STATION</th>\n",
       "      <th>DATETIME</th>\n",
       "      <th></th>\n",
       "      <th></th>\n",
       "    </tr>\n",
       "  </thead>\n",
       "  <tbody>\n",
       "    <tr>\n",
       "      <th rowspan=\"5\" valign=\"top\">1 AVE</th>\n",
       "      <th>2015-04-25 04:00:00</th>\n",
       "      <td>3</td>\n",
       "      <td>76</td>\n",
       "    </tr>\n",
       "    <tr>\n",
       "      <th>2015-04-25 08:00:00</th>\n",
       "      <td>2</td>\n",
       "      <td>53</td>\n",
       "    </tr>\n",
       "    <tr>\n",
       "      <th>2015-04-25 12:00:00</th>\n",
       "      <td>2</td>\n",
       "      <td>54</td>\n",
       "    </tr>\n",
       "    <tr>\n",
       "      <th>2015-04-25 16:00:00</th>\n",
       "      <td>4</td>\n",
       "      <td>57</td>\n",
       "    </tr>\n",
       "    <tr>\n",
       "      <th>2015-04-25 20:00:00</th>\n",
       "      <td>0</td>\n",
       "      <td>41</td>\n",
       "    </tr>\n",
       "  </tbody>\n",
       "</table>\n",
       "</div>"
      ],
      "text/plain": [
       "                             ENTRIES  EXITS\n",
       "STATION DATETIME                           \n",
       "1 AVE   2015-04-25 04:00:00        3     76\n",
       "        2015-04-25 08:00:00        2     53\n",
       "        2015-04-25 12:00:00        2     54\n",
       "        2015-04-25 16:00:00        4     57\n",
       "        2015-04-25 20:00:00        0     41"
      ]
     },
     "execution_count": 101,
     "metadata": {},
     "output_type": "execute_result"
    }
   ],
   "source": [
    "rounded_times = station_period_totals.set_index('DATETIME').groupby('STATION')\n",
    "\n",
    "rounded_times = rounded_times.resample('4H', convention='end', how='sum')\n",
    "\n",
    "print len(station_period_totals), len(rounded_times)\n",
    "\n",
    "print station_of_interest\n",
    "print 'len before rounding:'\n",
    "print len(station_period_totals[station_period_totals.STATION == station_of_interest])\n",
    "print 'len after rounding:'\n",
    "print len(rounded_times.loc[station_of_interest])\n",
    "\n",
    "rounded_times.head()"
   ]
  },
  {
   "cell_type": "code",
   "execution_count": 102,
   "metadata": {
    "collapsed": false
   },
   "outputs": [
    {
     "data": {
      "text/plain": [
       "array([datetime.time(0, 0), datetime.time(4, 0), datetime.time(8, 0),\n",
       "       datetime.time(12, 0), datetime.time(16, 0), datetime.time(20, 0)], dtype=object)"
      ]
     },
     "execution_count": 102,
     "metadata": {},
     "output_type": "execute_result"
    }
   ],
   "source": [
    "np.unique(rounded_times.loc[station_of_interest].index.time)"
   ]
  },
  {
   "cell_type": "markdown",
   "metadata": {},
   "source": [
    "# Try again to separate by day of week"
   ]
  },
  {
   "cell_type": "code",
   "execution_count": 103,
   "metadata": {
    "collapsed": false
   },
   "outputs": [
    {
     "data": {
      "text/html": [
       "<div>\n",
       "<table border=\"1\" class=\"dataframe\">\n",
       "  <thead>\n",
       "    <tr style=\"text-align: right;\">\n",
       "      <th></th>\n",
       "      <th></th>\n",
       "      <th>ENTRIES</th>\n",
       "      <th>EXITS</th>\n",
       "    </tr>\n",
       "    <tr>\n",
       "      <th>WEEKDAY</th>\n",
       "      <th>TIME</th>\n",
       "      <th></th>\n",
       "      <th></th>\n",
       "    </tr>\n",
       "  </thead>\n",
       "  <tbody>\n",
       "    <tr>\n",
       "      <th rowspan=\"6\" valign=\"top\">0</th>\n",
       "      <th>00:00:00</th>\n",
       "      <td>7640.500000</td>\n",
       "      <td>6679.333333</td>\n",
       "    </tr>\n",
       "    <tr>\n",
       "      <th>04:00:00</th>\n",
       "      <td>1012.666667</td>\n",
       "      <td>906.666667</td>\n",
       "    </tr>\n",
       "    <tr>\n",
       "      <th>08:00:00</th>\n",
       "      <td>15706.833333</td>\n",
       "      <td>9260.333333</td>\n",
       "    </tr>\n",
       "    <tr>\n",
       "      <th>12:00:00</th>\n",
       "      <td>25210.500000</td>\n",
       "      <td>17654.333333</td>\n",
       "    </tr>\n",
       "    <tr>\n",
       "      <th>16:00:00</th>\n",
       "      <td>22421.166667</td>\n",
       "      <td>17512.166667</td>\n",
       "    </tr>\n",
       "    <tr>\n",
       "      <th>20:00:00</th>\n",
       "      <td>29337.833333</td>\n",
       "      <td>27677.833333</td>\n",
       "    </tr>\n",
       "    <tr>\n",
       "      <th rowspan=\"6\" valign=\"top\">1</th>\n",
       "      <th>00:00:00</th>\n",
       "      <td>10402.666667</td>\n",
       "      <td>8961.000000</td>\n",
       "    </tr>\n",
       "    <tr>\n",
       "      <th>04:00:00</th>\n",
       "      <td>1058.166667</td>\n",
       "      <td>836.833333</td>\n",
       "    </tr>\n",
       "    <tr>\n",
       "      <th>08:00:00</th>\n",
       "      <td>16922.166667</td>\n",
       "      <td>10748.666667</td>\n",
       "    </tr>\n",
       "    <tr>\n",
       "      <th>12:00:00</th>\n",
       "      <td>31133.166667</td>\n",
       "      <td>19586.166667</td>\n",
       "    </tr>\n",
       "    <tr>\n",
       "      <th>16:00:00</th>\n",
       "      <td>24800.000000</td>\n",
       "      <td>19077.833333</td>\n",
       "    </tr>\n",
       "    <tr>\n",
       "      <th>20:00:00</th>\n",
       "      <td>33693.500000</td>\n",
       "      <td>30680.666667</td>\n",
       "    </tr>\n",
       "    <tr>\n",
       "      <th rowspan=\"6\" valign=\"top\">2</th>\n",
       "      <th>00:00:00</th>\n",
       "      <td>11283.666667</td>\n",
       "      <td>10748.000000</td>\n",
       "    </tr>\n",
       "    <tr>\n",
       "      <th>04:00:00</th>\n",
       "      <td>1075.500000</td>\n",
       "      <td>1025.833333</td>\n",
       "    </tr>\n",
       "    <tr>\n",
       "      <th>08:00:00</th>\n",
       "      <td>19727.833333</td>\n",
       "      <td>10562.666667</td>\n",
       "    </tr>\n",
       "    <tr>\n",
       "      <th>12:00:00</th>\n",
       "      <td>29688.166667</td>\n",
       "      <td>19958.833333</td>\n",
       "    </tr>\n",
       "    <tr>\n",
       "      <th>16:00:00</th>\n",
       "      <td>24821.000000</td>\n",
       "      <td>19382.000000</td>\n",
       "    </tr>\n",
       "    <tr>\n",
       "      <th>20:00:00</th>\n",
       "      <td>34203.333333</td>\n",
       "      <td>30991.000000</td>\n",
       "    </tr>\n",
       "    <tr>\n",
       "      <th rowspan=\"6\" valign=\"top\">3</th>\n",
       "      <th>00:00:00</th>\n",
       "      <td>11904.500000</td>\n",
       "      <td>11293.500000</td>\n",
       "    </tr>\n",
       "    <tr>\n",
       "      <th>04:00:00</th>\n",
       "      <td>2293.166667</td>\n",
       "      <td>1315.666667</td>\n",
       "    </tr>\n",
       "    <tr>\n",
       "      <th>08:00:00</th>\n",
       "      <td>15905.000000</td>\n",
       "      <td>10453.333333</td>\n",
       "    </tr>\n",
       "    <tr>\n",
       "      <th>12:00:00</th>\n",
       "      <td>32042.166667</td>\n",
       "      <td>20216.166667</td>\n",
       "    </tr>\n",
       "    <tr>\n",
       "      <th>16:00:00</th>\n",
       "      <td>24748.000000</td>\n",
       "      <td>19573.833333</td>\n",
       "    </tr>\n",
       "    <tr>\n",
       "      <th>20:00:00</th>\n",
       "      <td>31434.666667</td>\n",
       "      <td>29627.833333</td>\n",
       "    </tr>\n",
       "    <tr>\n",
       "      <th rowspan=\"6\" valign=\"top\">4</th>\n",
       "      <th>00:00:00</th>\n",
       "      <td>14917.333333</td>\n",
       "      <td>11912.500000</td>\n",
       "    </tr>\n",
       "    <tr>\n",
       "      <th>04:00:00</th>\n",
       "      <td>1316.333333</td>\n",
       "      <td>1205.333333</td>\n",
       "    </tr>\n",
       "    <tr>\n",
       "      <th>08:00:00</th>\n",
       "      <td>16851.333333</td>\n",
       "      <td>10611.500000</td>\n",
       "    </tr>\n",
       "    <tr>\n",
       "      <th>12:00:00</th>\n",
       "      <td>28256.166667</td>\n",
       "      <td>20403.166667</td>\n",
       "    </tr>\n",
       "    <tr>\n",
       "      <th>16:00:00</th>\n",
       "      <td>26967.000000</td>\n",
       "      <td>21273.500000</td>\n",
       "    </tr>\n",
       "    <tr>\n",
       "      <th>20:00:00</th>\n",
       "      <td>34378.666667</td>\n",
       "      <td>28286.000000</td>\n",
       "    </tr>\n",
       "    <tr>\n",
       "      <th rowspan=\"6\" valign=\"top\">5</th>\n",
       "      <th>00:00:00</th>\n",
       "      <td>13709.000000</td>\n",
       "      <td>10760.400000</td>\n",
       "    </tr>\n",
       "    <tr>\n",
       "      <th>04:00:00</th>\n",
       "      <td>2035.666667</td>\n",
       "      <td>2160.166667</td>\n",
       "    </tr>\n",
       "    <tr>\n",
       "      <th>08:00:00</th>\n",
       "      <td>3588.333333</td>\n",
       "      <td>3852.500000</td>\n",
       "    </tr>\n",
       "    <tr>\n",
       "      <th>12:00:00</th>\n",
       "      <td>13807.166667</td>\n",
       "      <td>13562.333333</td>\n",
       "    </tr>\n",
       "    <tr>\n",
       "      <th>16:00:00</th>\n",
       "      <td>21076.500000</td>\n",
       "      <td>17086.666667</td>\n",
       "    </tr>\n",
       "    <tr>\n",
       "      <th>20:00:00</th>\n",
       "      <td>22002.333333</td>\n",
       "      <td>16760.166667</td>\n",
       "    </tr>\n",
       "    <tr>\n",
       "      <th rowspan=\"6\" valign=\"top\">6</th>\n",
       "      <th>00:00:00</th>\n",
       "      <td>10831.833333</td>\n",
       "      <td>8882.000000</td>\n",
       "    </tr>\n",
       "    <tr>\n",
       "      <th>04:00:00</th>\n",
       "      <td>2917.833333</td>\n",
       "      <td>2336.666667</td>\n",
       "    </tr>\n",
       "    <tr>\n",
       "      <th>08:00:00</th>\n",
       "      <td>2341.166667</td>\n",
       "      <td>2655.833333</td>\n",
       "    </tr>\n",
       "    <tr>\n",
       "      <th>12:00:00</th>\n",
       "      <td>11078.166667</td>\n",
       "      <td>10970.666667</td>\n",
       "    </tr>\n",
       "    <tr>\n",
       "      <th>16:00:00</th>\n",
       "      <td>17931.000000</td>\n",
       "      <td>15945.333333</td>\n",
       "    </tr>\n",
       "    <tr>\n",
       "      <th>20:00:00</th>\n",
       "      <td>17134.333333</td>\n",
       "      <td>13676.166667</td>\n",
       "    </tr>\n",
       "  </tbody>\n",
       "</table>\n",
       "</div>"
      ],
      "text/plain": [
       "                       ENTRIES         EXITS\n",
       "WEEKDAY TIME                                \n",
       "0       00:00:00   7640.500000   6679.333333\n",
       "        04:00:00   1012.666667    906.666667\n",
       "        08:00:00  15706.833333   9260.333333\n",
       "        12:00:00  25210.500000  17654.333333\n",
       "        16:00:00  22421.166667  17512.166667\n",
       "        20:00:00  29337.833333  27677.833333\n",
       "1       00:00:00  10402.666667   8961.000000\n",
       "        04:00:00   1058.166667    836.833333\n",
       "        08:00:00  16922.166667  10748.666667\n",
       "        12:00:00  31133.166667  19586.166667\n",
       "        16:00:00  24800.000000  19077.833333\n",
       "        20:00:00  33693.500000  30680.666667\n",
       "2       00:00:00  11283.666667  10748.000000\n",
       "        04:00:00   1075.500000   1025.833333\n",
       "        08:00:00  19727.833333  10562.666667\n",
       "        12:00:00  29688.166667  19958.833333\n",
       "        16:00:00  24821.000000  19382.000000\n",
       "        20:00:00  34203.333333  30991.000000\n",
       "3       00:00:00  11904.500000  11293.500000\n",
       "        04:00:00   2293.166667   1315.666667\n",
       "        08:00:00  15905.000000  10453.333333\n",
       "        12:00:00  32042.166667  20216.166667\n",
       "        16:00:00  24748.000000  19573.833333\n",
       "        20:00:00  31434.666667  29627.833333\n",
       "4       00:00:00  14917.333333  11912.500000\n",
       "        04:00:00   1316.333333   1205.333333\n",
       "        08:00:00  16851.333333  10611.500000\n",
       "        12:00:00  28256.166667  20403.166667\n",
       "        16:00:00  26967.000000  21273.500000\n",
       "        20:00:00  34378.666667  28286.000000\n",
       "5       00:00:00  13709.000000  10760.400000\n",
       "        04:00:00   2035.666667   2160.166667\n",
       "        08:00:00   3588.333333   3852.500000\n",
       "        12:00:00  13807.166667  13562.333333\n",
       "        16:00:00  21076.500000  17086.666667\n",
       "        20:00:00  22002.333333  16760.166667\n",
       "6       00:00:00  10831.833333   8882.000000\n",
       "        04:00:00   2917.833333   2336.666667\n",
       "        08:00:00   2341.166667   2655.833333\n",
       "        12:00:00  11078.166667  10970.666667\n",
       "        16:00:00  17931.000000  15945.333333\n",
       "        20:00:00  17134.333333  13676.166667"
      ]
     },
     "execution_count": 103,
     "metadata": {},
     "output_type": "execute_result"
    }
   ],
   "source": [
    "day_of_week_SOI = rounded_times.loc[station_of_interest].reset_index() #.reset_index('DATETIME')\n",
    "day_of_week_SOI['WEEKDAY'] = day_of_week_SOI.DATETIME.dt.dayofweek\n",
    "day_of_week_SOI['TIME'] = day_of_week_SOI.DATETIME.dt.time\n",
    "\n",
    "mean_day_of_week_SOI = day_of_week_SOI.drop('DATETIME', axis=1).groupby(['WEEKDAY','TIME']).mean()\n",
    "mean_day_of_week_SOI"
   ]
  },
  {
   "cell_type": "code",
   "execution_count": 104,
   "metadata": {
    "collapsed": false
   },
   "outputs": [
    {
     "data": {
      "text/html": [
       "<div>\n",
       "<table border=\"1\" class=\"dataframe\">\n",
       "  <thead>\n",
       "    <tr style=\"text-align: right;\">\n",
       "      <th></th>\n",
       "      <th>WEEKDAY</th>\n",
       "      <th>TIME</th>\n",
       "      <th>ENTRIES</th>\n",
       "      <th>EXITS</th>\n",
       "      <th>LABEL</th>\n",
       "    </tr>\n",
       "  </thead>\n",
       "  <tbody>\n",
       "    <tr>\n",
       "      <th>0</th>\n",
       "      <td>0</td>\n",
       "      <td>00:00:00</td>\n",
       "      <td>7640.500000</td>\n",
       "      <td>6679.333333</td>\n",
       "      <td>000:00:00</td>\n",
       "    </tr>\n",
       "    <tr>\n",
       "      <th>1</th>\n",
       "      <td>0</td>\n",
       "      <td>04:00:00</td>\n",
       "      <td>1012.666667</td>\n",
       "      <td>906.666667</td>\n",
       "      <td>004:00:00</td>\n",
       "    </tr>\n",
       "    <tr>\n",
       "      <th>2</th>\n",
       "      <td>0</td>\n",
       "      <td>08:00:00</td>\n",
       "      <td>15706.833333</td>\n",
       "      <td>9260.333333</td>\n",
       "      <td>008:00:00</td>\n",
       "    </tr>\n",
       "    <tr>\n",
       "      <th>3</th>\n",
       "      <td>0</td>\n",
       "      <td>12:00:00</td>\n",
       "      <td>25210.500000</td>\n",
       "      <td>17654.333333</td>\n",
       "      <td>012:00:00</td>\n",
       "    </tr>\n",
       "    <tr>\n",
       "      <th>4</th>\n",
       "      <td>0</td>\n",
       "      <td>16:00:00</td>\n",
       "      <td>22421.166667</td>\n",
       "      <td>17512.166667</td>\n",
       "      <td>016:00:00</td>\n",
       "    </tr>\n",
       "  </tbody>\n",
       "</table>\n",
       "</div>"
      ],
      "text/plain": [
       "   WEEKDAY      TIME       ENTRIES         EXITS      LABEL\n",
       "0        0  00:00:00   7640.500000   6679.333333  000:00:00\n",
       "1        0  04:00:00   1012.666667    906.666667  004:00:00\n",
       "2        0  08:00:00  15706.833333   9260.333333  008:00:00\n",
       "3        0  12:00:00  25210.500000  17654.333333  012:00:00\n",
       "4        0  16:00:00  22421.166667  17512.166667  016:00:00"
      ]
     },
     "execution_count": 104,
     "metadata": {},
     "output_type": "execute_result"
    }
   ],
   "source": [
    "plot_mean_day_of_week_SOI = mean_day_of_week_SOI.reset_index()\n",
    "\n",
    "plot_mean_day_of_week_SOI['LABEL'] = \\\n",
    "    plot_mean_day_of_week_SOI['WEEKDAY'].apply(lambda x: str(x)) \\\n",
    "    + plot_mean_day_of_week_SOI['TIME'].apply(lambda x: str(x))\n",
    "\n",
    "plot_mean_day_of_week_SOI.head()"
   ]
  },
  {
   "cell_type": "code",
   "execution_count": 105,
   "metadata": {
    "collapsed": false
   },
   "outputs": [
    {
     "data": {
      "image/png": "[encoded data removed]",
      "text/plain": [
       "<matplotlib.figure.Figure at 0x7f9ac0896cd0>"
      ]
     },
     "metadata": {},
     "output_type": "display_data"
    }
   ],
   "source": [
    "fig, ax = plt.subplots(figsize=[15,5])\n",
    "\n",
    "mean_day_of_week_SOI.plot(\n",
    "#     x='LABEL',\n",
    "    y='ENTRIES', \n",
    "    title='weekday-wise-mean entries for %s thru whole time period' % station_of_interest, \n",
    "    rot=90,\n",
    "    ax=ax,\n",
    "    legend=False)\n",
    "\n",
    "# plt.xticks(range(7*(24/4)+1))\n",
    "\n",
    "plt.show()\n",
    "# ax.xaxis.set_major_locator(ticker.MultipleLocator(0.250))\n",
    "# ax.set_xticklabels(mean_day_of_week_SOI.index);"
   ]
  },
  {
   "cell_type": "code",
   "execution_count": null,
   "metadata": {
    "collapsed": true
   },
   "outputs": [],
   "source": []
  }
 ],
 "metadata": {
  "kernelspec": {
   "display_name": "Python 2",
   "language": "python",
   "name": "python2"
  },
  "language_info": {
   "codemirror_mode": {
    "name": "ipython",
    "version": 2
   },
   "file_extension": ".py",
   "mimetype": "text/x-python",
   "name": "python",
   "nbconvert_exporter": "python",
   "pygments_lexer": "ipython2",
   "version": "2.7.11"
  }
 },
 "nbformat": 4,
 "nbformat_minor": 0
}
